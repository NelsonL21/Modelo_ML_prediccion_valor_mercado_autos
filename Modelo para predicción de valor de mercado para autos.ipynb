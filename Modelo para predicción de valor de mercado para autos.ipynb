{
 "cells": [
  {
   "cell_type": "markdown",
   "metadata": {},
   "source": [
    "# Modelo para predicción de valor de mercado para autos"
   ]
  },
  {
   "cell_type": "markdown",
   "metadata": {
    "id": "2B-sH9Sy0vo6"
   },
   "source": [
    "El servicio de venta de autos usados Rusty Bargain está desarrollando una aplicación para atraer nuevos clientes. Gracias a esa app, puedes averiguar rápidamente el valor de mercado de tu coche. Tienes acceso al historial: especificaciones técnicas, versiones de equipamiento y precios. Tienes que crear un modelo que determine el valor de mercado.\n",
    "A Rusty Bargain le interesa:\n",
    "- la calidad de la predicción;\n",
    "- la velocidad de la predicción;\n",
    "- el tiempo requerido para el entrenamiento"
   ]
  },
  {
   "cell_type": "markdown",
   "metadata": {
    "id": "GF37pv_syfx3"
   },
   "source": [
    "## Instalación de librerías"
   ]
  },
  {
   "cell_type": "code",
   "execution_count": 87,
   "metadata": {
    "colab": {
     "base_uri": "https://localhost:8080/"
    },
    "id": "CFj98aC_pyUd",
    "outputId": "4e38245e-4390-4cd4-d658-03573c07c1bf"
   },
   "outputs": [
    {
     "name": "stdout",
     "output_type": "stream",
     "text": [
      "Looking in indexes: https://pypi.org/simple, https://us-python.pkg.dev/colab-wheels/public/simple/\n",
      "Requirement already satisfied: lightgbm in /usr/local/lib/python3.9/dist-packages (3.3.5)\n",
      "Requirement already satisfied: numpy in /usr/local/lib/python3.9/dist-packages (from lightgbm) (1.22.4)\n",
      "Requirement already satisfied: wheel in /usr/local/lib/python3.9/dist-packages (from lightgbm) (0.40.0)\n",
      "Requirement already satisfied: scikit-learn!=0.22.0 in /usr/local/lib/python3.9/dist-packages (from lightgbm) (1.2.2)\n",
      "Requirement already satisfied: scipy in /usr/local/lib/python3.9/dist-packages (from lightgbm) (1.10.1)\n",
      "Requirement already satisfied: threadpoolctl>=2.0.0 in /usr/local/lib/python3.9/dist-packages (from scikit-learn!=0.22.0->lightgbm) (3.1.0)\n",
      "Requirement already satisfied: joblib>=1.1.1 in /usr/local/lib/python3.9/dist-packages (from scikit-learn!=0.22.0->lightgbm) (1.2.0)\n"
     ]
    }
   ],
   "source": [
    "pip install lightgbm"
   ]
  },
  {
   "cell_type": "code",
   "execution_count": 88,
   "metadata": {
    "colab": {
     "base_uri": "https://localhost:8080/"
    },
    "id": "biNl0GOtSY7M",
    "outputId": "7182e733-3ab6-4a3a-b071-7edf058a2515"
   },
   "outputs": [
    {
     "name": "stdout",
     "output_type": "stream",
     "text": [
      "Looking in indexes: https://pypi.org/simple, https://us-python.pkg.dev/colab-wheels/public/simple/\n",
      "Requirement already satisfied: catboost in /usr/local/lib/python3.9/dist-packages (1.1.1)\n",
      "Requirement already satisfied: graphviz in /usr/local/lib/python3.9/dist-packages (from catboost) (0.20.1)\n",
      "Requirement already satisfied: plotly in /usr/local/lib/python3.9/dist-packages (from catboost) (5.13.1)\n",
      "Requirement already satisfied: scipy in /usr/local/lib/python3.9/dist-packages (from catboost) (1.10.1)\n",
      "Requirement already satisfied: pandas>=0.24.0 in /usr/local/lib/python3.9/dist-packages (from catboost) (1.5.3)\n",
      "Requirement already satisfied: numpy>=1.16.0 in /usr/local/lib/python3.9/dist-packages (from catboost) (1.22.4)\n",
      "Requirement already satisfied: six in /usr/local/lib/python3.9/dist-packages (from catboost) (1.16.0)\n",
      "Requirement already satisfied: matplotlib in /usr/local/lib/python3.9/dist-packages (from catboost) (3.7.1)\n",
      "Requirement already satisfied: python-dateutil>=2.8.1 in /usr/local/lib/python3.9/dist-packages (from pandas>=0.24.0->catboost) (2.8.2)\n",
      "Requirement already satisfied: pytz>=2020.1 in /usr/local/lib/python3.9/dist-packages (from pandas>=0.24.0->catboost) (2022.7.1)\n",
      "Requirement already satisfied: pyparsing>=2.3.1 in /usr/local/lib/python3.9/dist-packages (from matplotlib->catboost) (3.0.9)\n",
      "Requirement already satisfied: pillow>=6.2.0 in /usr/local/lib/python3.9/dist-packages (from matplotlib->catboost) (8.4.0)\n",
      "Requirement already satisfied: packaging>=20.0 in /usr/local/lib/python3.9/dist-packages (from matplotlib->catboost) (23.0)\n",
      "Requirement already satisfied: cycler>=0.10 in /usr/local/lib/python3.9/dist-packages (from matplotlib->catboost) (0.11.0)\n",
      "Requirement already satisfied: contourpy>=1.0.1 in /usr/local/lib/python3.9/dist-packages (from matplotlib->catboost) (1.0.7)\n",
      "Requirement already satisfied: fonttools>=4.22.0 in /usr/local/lib/python3.9/dist-packages (from matplotlib->catboost) (4.39.3)\n",
      "Requirement already satisfied: importlib-resources>=3.2.0 in /usr/local/lib/python3.9/dist-packages (from matplotlib->catboost) (5.12.0)\n",
      "Requirement already satisfied: kiwisolver>=1.0.1 in /usr/local/lib/python3.9/dist-packages (from matplotlib->catboost) (1.4.4)\n",
      "Requirement already satisfied: tenacity>=6.2.0 in /usr/local/lib/python3.9/dist-packages (from plotly->catboost) (8.2.2)\n",
      "Requirement already satisfied: zipp>=3.1.0 in /usr/local/lib/python3.9/dist-packages (from importlib-resources>=3.2.0->matplotlib->catboost) (3.15.0)\n"
     ]
    }
   ],
   "source": [
    "pip install catboost"
   ]
  },
  {
   "cell_type": "markdown",
   "metadata": {
    "id": "nUQZBQJLcrNA"
   },
   "source": [
    "## Librerías"
   ]
  },
  {
   "cell_type": "code",
   "execution_count": 89,
   "metadata": {
    "id": "TgLEAD_XcqVn"
   },
   "outputs": [],
   "source": [
    "import pandas as pd\n",
    "import numpy as np\n",
    "import scipy.stats as st\n",
    "from lightgbm import LGBMRegressor\n",
    "from catboost import CatBoostRegressor\n",
    "from sklearn.preprocessing import StandardScaler, OrdinalEncoder\n",
    "from sklearn.linear_model import LinearRegression\n",
    "from sklearn.model_selection import train_test_split\n",
    "from sklearn.metrics import mean_squared_error\n",
    "from sklearn.model_selection import KFold\n",
    "from sklearn.tree import DecisionTreeRegressor"
   ]
  },
  {
   "cell_type": "code",
   "execution_count": 90,
   "metadata": {
    "colab": {
     "base_uri": "https://localhost:8080/"
    },
    "id": "bX8CndEjczgS",
    "outputId": "647b569b-fac7-453f-f77e-0335594516a2"
   },
   "outputs": [
    {
     "name": "stdout",
     "output_type": "stream",
     "text": [
      "Drive already mounted at /content/drive; to attempt to forcibly remount, call drive.mount(\"/content/drive\", force_remount=True).\n"
     ]
    }
   ],
   "source": [
    "from google.colab import drive\n",
    "drive.mount('/content/drive')"
   ]
  },
  {
   "cell_type": "markdown",
   "metadata": {
    "id": "bYXn0yJH0vpA"
   },
   "source": [
    "## Preparación de datos"
   ]
  },
  {
   "cell_type": "markdown",
   "metadata": {
    "id": "J_NG8-YLytsr"
   },
   "source": [
    "Primeramente se procede a leer el Data Frame"
   ]
  },
  {
   "cell_type": "code",
   "execution_count": 91,
   "metadata": {
    "id": "nrbEqe0a0vpB"
   },
   "outputs": [],
   "source": [
    "df = pd.read_csv('/content/drive/MyDrive/practicum/Sprint12/car_data.csv')"
   ]
  },
  {
   "cell_type": "code",
   "execution_count": 92,
   "metadata": {
    "colab": {
     "base_uri": "https://localhost:8080/",
     "height": 357
    },
    "id": "K6Qsd-XYeAJR",
    "outputId": "2ee7d722-7caa-4a50-c0df-984b58ddcc91"
   },
   "outputs": [
    {
     "data": {
      "text/html": [
       "\n",
       "  <div id=\"df-5610567e-80ae-4bd7-9335-18785fd3b972\">\n",
       "    <div class=\"colab-df-container\">\n",
       "      <div>\n",
       "<style scoped>\n",
       "    .dataframe tbody tr th:only-of-type {\n",
       "        vertical-align: middle;\n",
       "    }\n",
       "\n",
       "    .dataframe tbody tr th {\n",
       "        vertical-align: top;\n",
       "    }\n",
       "\n",
       "    .dataframe thead th {\n",
       "        text-align: right;\n",
       "    }\n",
       "</style>\n",
       "<table border=\"1\" class=\"dataframe\">\n",
       "  <thead>\n",
       "    <tr style=\"text-align: right;\">\n",
       "      <th></th>\n",
       "      <th>DateCrawled</th>\n",
       "      <th>Price</th>\n",
       "      <th>VehicleType</th>\n",
       "      <th>RegistrationYear</th>\n",
       "      <th>Gearbox</th>\n",
       "      <th>Power</th>\n",
       "      <th>Model</th>\n",
       "      <th>Mileage</th>\n",
       "      <th>RegistrationMonth</th>\n",
       "      <th>FuelType</th>\n",
       "      <th>Brand</th>\n",
       "      <th>NotRepaired</th>\n",
       "      <th>DateCreated</th>\n",
       "      <th>NumberOfPictures</th>\n",
       "      <th>PostalCode</th>\n",
       "      <th>LastSeen</th>\n",
       "    </tr>\n",
       "  </thead>\n",
       "  <tbody>\n",
       "    <tr>\n",
       "      <th>0</th>\n",
       "      <td>24/03/2016 11:52</td>\n",
       "      <td>480</td>\n",
       "      <td>NaN</td>\n",
       "      <td>1993</td>\n",
       "      <td>manual</td>\n",
       "      <td>0</td>\n",
       "      <td>golf</td>\n",
       "      <td>150000</td>\n",
       "      <td>0</td>\n",
       "      <td>petrol</td>\n",
       "      <td>volkswagen</td>\n",
       "      <td>NaN</td>\n",
       "      <td>24/03/2016 00:00</td>\n",
       "      <td>0</td>\n",
       "      <td>70435</td>\n",
       "      <td>07/04/2016 03:16</td>\n",
       "    </tr>\n",
       "    <tr>\n",
       "      <th>1</th>\n",
       "      <td>24/03/2016 10:58</td>\n",
       "      <td>18300</td>\n",
       "      <td>coupe</td>\n",
       "      <td>2011</td>\n",
       "      <td>manual</td>\n",
       "      <td>190</td>\n",
       "      <td>NaN</td>\n",
       "      <td>125000</td>\n",
       "      <td>5</td>\n",
       "      <td>gasoline</td>\n",
       "      <td>audi</td>\n",
       "      <td>yes</td>\n",
       "      <td>24/03/2016 00:00</td>\n",
       "      <td>0</td>\n",
       "      <td>66954</td>\n",
       "      <td>07/04/2016 01:46</td>\n",
       "    </tr>\n",
       "    <tr>\n",
       "      <th>2</th>\n",
       "      <td>14/03/2016 12:52</td>\n",
       "      <td>9800</td>\n",
       "      <td>suv</td>\n",
       "      <td>2004</td>\n",
       "      <td>auto</td>\n",
       "      <td>163</td>\n",
       "      <td>grand</td>\n",
       "      <td>125000</td>\n",
       "      <td>8</td>\n",
       "      <td>gasoline</td>\n",
       "      <td>jeep</td>\n",
       "      <td>NaN</td>\n",
       "      <td>14/03/2016 00:00</td>\n",
       "      <td>0</td>\n",
       "      <td>90480</td>\n",
       "      <td>05/04/2016 12:47</td>\n",
       "    </tr>\n",
       "    <tr>\n",
       "      <th>3</th>\n",
       "      <td>17/03/2016 16:54</td>\n",
       "      <td>1500</td>\n",
       "      <td>small</td>\n",
       "      <td>2001</td>\n",
       "      <td>manual</td>\n",
       "      <td>75</td>\n",
       "      <td>golf</td>\n",
       "      <td>150000</td>\n",
       "      <td>6</td>\n",
       "      <td>petrol</td>\n",
       "      <td>volkswagen</td>\n",
       "      <td>no</td>\n",
       "      <td>17/03/2016 00:00</td>\n",
       "      <td>0</td>\n",
       "      <td>91074</td>\n",
       "      <td>17/03/2016 17:40</td>\n",
       "    </tr>\n",
       "    <tr>\n",
       "      <th>4</th>\n",
       "      <td>31/03/2016 17:25</td>\n",
       "      <td>3600</td>\n",
       "      <td>small</td>\n",
       "      <td>2008</td>\n",
       "      <td>manual</td>\n",
       "      <td>69</td>\n",
       "      <td>fabia</td>\n",
       "      <td>90000</td>\n",
       "      <td>7</td>\n",
       "      <td>gasoline</td>\n",
       "      <td>skoda</td>\n",
       "      <td>no</td>\n",
       "      <td>31/03/2016 00:00</td>\n",
       "      <td>0</td>\n",
       "      <td>60437</td>\n",
       "      <td>06/04/2016 10:17</td>\n",
       "    </tr>\n",
       "  </tbody>\n",
       "</table>\n",
       "</div>\n",
       "      <button class=\"colab-df-convert\" onclick=\"convertToInteractive('df-5610567e-80ae-4bd7-9335-18785fd3b972')\"\n",
       "              title=\"Convert this dataframe to an interactive table.\"\n",
       "              style=\"display:none;\">\n",
       "        \n",
       "  <svg xmlns=\"http://www.w3.org/2000/svg\" height=\"24px\"viewBox=\"0 0 24 24\"\n",
       "       width=\"24px\">\n",
       "    <path d=\"M0 0h24v24H0V0z\" fill=\"none\"/>\n",
       "    <path d=\"M18.56 5.44l.94 2.06.94-2.06 2.06-.94-2.06-.94-.94-2.06-.94 2.06-2.06.94zm-11 1L8.5 8.5l.94-2.06 2.06-.94-2.06-.94L8.5 2.5l-.94 2.06-2.06.94zm10 10l.94 2.06.94-2.06 2.06-.94-2.06-.94-.94-2.06-.94 2.06-2.06.94z\"/><path d=\"M17.41 7.96l-1.37-1.37c-.4-.4-.92-.59-1.43-.59-.52 0-1.04.2-1.43.59L10.3 9.45l-7.72 7.72c-.78.78-.78 2.05 0 2.83L4 21.41c.39.39.9.59 1.41.59.51 0 1.02-.2 1.41-.59l7.78-7.78 2.81-2.81c.8-.78.8-2.07 0-2.86zM5.41 20L4 18.59l7.72-7.72 1.47 1.35L5.41 20z\"/>\n",
       "  </svg>\n",
       "      </button>\n",
       "      \n",
       "  <style>\n",
       "    .colab-df-container {\n",
       "      display:flex;\n",
       "      flex-wrap:wrap;\n",
       "      gap: 12px;\n",
       "    }\n",
       "\n",
       "    .colab-df-convert {\n",
       "      background-color: #E8F0FE;\n",
       "      border: none;\n",
       "      border-radius: 50%;\n",
       "      cursor: pointer;\n",
       "      display: none;\n",
       "      fill: #1967D2;\n",
       "      height: 32px;\n",
       "      padding: 0 0 0 0;\n",
       "      width: 32px;\n",
       "    }\n",
       "\n",
       "    .colab-df-convert:hover {\n",
       "      background-color: #E2EBFA;\n",
       "      box-shadow: 0px 1px 2px rgba(60, 64, 67, 0.3), 0px 1px 3px 1px rgba(60, 64, 67, 0.15);\n",
       "      fill: #174EA6;\n",
       "    }\n",
       "\n",
       "    [theme=dark] .colab-df-convert {\n",
       "      background-color: #3B4455;\n",
       "      fill: #D2E3FC;\n",
       "    }\n",
       "\n",
       "    [theme=dark] .colab-df-convert:hover {\n",
       "      background-color: #434B5C;\n",
       "      box-shadow: 0px 1px 3px 1px rgba(0, 0, 0, 0.15);\n",
       "      filter: drop-shadow(0px 1px 2px rgba(0, 0, 0, 0.3));\n",
       "      fill: #FFFFFF;\n",
       "    }\n",
       "  </style>\n",
       "\n",
       "      <script>\n",
       "        const buttonEl =\n",
       "          document.querySelector('#df-5610567e-80ae-4bd7-9335-18785fd3b972 button.colab-df-convert');\n",
       "        buttonEl.style.display =\n",
       "          google.colab.kernel.accessAllowed ? 'block' : 'none';\n",
       "\n",
       "        async function convertToInteractive(key) {\n",
       "          const element = document.querySelector('#df-5610567e-80ae-4bd7-9335-18785fd3b972');\n",
       "          const dataTable =\n",
       "            await google.colab.kernel.invokeFunction('convertToInteractive',\n",
       "                                                     [key], {});\n",
       "          if (!dataTable) return;\n",
       "\n",
       "          const docLinkHtml = 'Like what you see? Visit the ' +\n",
       "            '<a target=\"_blank\" href=https://colab.research.google.com/notebooks/data_table.ipynb>data table notebook</a>'\n",
       "            + ' to learn more about interactive tables.';\n",
       "          element.innerHTML = '';\n",
       "          dataTable['output_type'] = 'display_data';\n",
       "          await google.colab.output.renderOutput(dataTable, element);\n",
       "          const docLink = document.createElement('div');\n",
       "          docLink.innerHTML = docLinkHtml;\n",
       "          element.appendChild(docLink);\n",
       "        }\n",
       "      </script>\n",
       "    </div>\n",
       "  </div>\n",
       "  "
      ],
      "text/plain": [
       "        DateCrawled  Price VehicleType  RegistrationYear Gearbox  Power  \\\n",
       "0  24/03/2016 11:52    480         NaN              1993  manual      0   \n",
       "1  24/03/2016 10:58  18300       coupe              2011  manual    190   \n",
       "2  14/03/2016 12:52   9800         suv              2004    auto    163   \n",
       "3  17/03/2016 16:54   1500       small              2001  manual     75   \n",
       "4  31/03/2016 17:25   3600       small              2008  manual     69   \n",
       "\n",
       "   Model  Mileage  RegistrationMonth  FuelType       Brand NotRepaired  \\\n",
       "0   golf   150000                  0    petrol  volkswagen         NaN   \n",
       "1    NaN   125000                  5  gasoline        audi         yes   \n",
       "2  grand   125000                  8  gasoline        jeep         NaN   \n",
       "3   golf   150000                  6    petrol  volkswagen          no   \n",
       "4  fabia    90000                  7  gasoline       skoda          no   \n",
       "\n",
       "        DateCreated  NumberOfPictures  PostalCode          LastSeen  \n",
       "0  24/03/2016 00:00                 0       70435  07/04/2016 03:16  \n",
       "1  24/03/2016 00:00                 0       66954  07/04/2016 01:46  \n",
       "2  14/03/2016 00:00                 0       90480  05/04/2016 12:47  \n",
       "3  17/03/2016 00:00                 0       91074  17/03/2016 17:40  \n",
       "4  31/03/2016 00:00                 0       60437  06/04/2016 10:17  "
      ]
     },
     "execution_count": 92,
     "metadata": {},
     "output_type": "execute_result"
    }
   ],
   "source": [
    "df.head()"
   ]
  },
  {
   "cell_type": "markdown",
   "metadata": {
    "id": "z38dRQVGzjdk"
   },
   "source": [
    "A simple vista se evidencia la presencia de valores nulos, tomando esto en cuenta se procede a realizar el conteo de la cfilas y determinacón de tipo de datos"
   ]
  },
  {
   "cell_type": "code",
   "execution_count": 93,
   "metadata": {
    "colab": {
     "base_uri": "https://localhost:8080/"
    },
    "id": "hUZzlJEueFlx",
    "outputId": "5df4cb43-c852-4e27-8e30-0c731c41e9da"
   },
   "outputs": [
    {
     "name": "stdout",
     "output_type": "stream",
     "text": [
      "<class 'pandas.core.frame.DataFrame'>\n",
      "RangeIndex: 354369 entries, 0 to 354368\n",
      "Data columns (total 16 columns):\n",
      " #   Column             Non-Null Count   Dtype \n",
      "---  ------             --------------   ----- \n",
      " 0   DateCrawled        354369 non-null  object\n",
      " 1   Price              354369 non-null  int64 \n",
      " 2   VehicleType        316879 non-null  object\n",
      " 3   RegistrationYear   354369 non-null  int64 \n",
      " 4   Gearbox            334536 non-null  object\n",
      " 5   Power              354369 non-null  int64 \n",
      " 6   Model              334664 non-null  object\n",
      " 7   Mileage            354369 non-null  int64 \n",
      " 8   RegistrationMonth  354369 non-null  int64 \n",
      " 9   FuelType           321474 non-null  object\n",
      " 10  Brand              354369 non-null  object\n",
      " 11  NotRepaired        283215 non-null  object\n",
      " 12  DateCreated        354369 non-null  object\n",
      " 13  NumberOfPictures   354369 non-null  int64 \n",
      " 14  PostalCode         354369 non-null  int64 \n",
      " 15  LastSeen           354369 non-null  object\n",
      "dtypes: int64(7), object(9)\n",
      "memory usage: 43.3+ MB\n"
     ]
    }
   ],
   "source": [
    "df.info()"
   ]
  },
  {
   "cell_type": "code",
   "execution_count": 94,
   "metadata": {
    "colab": {
     "base_uri": "https://localhost:8080/",
     "height": 344
    },
    "id": "f7pmDFJprIA0",
    "outputId": "eea144f7-6ef4-460b-b454-436056f82b8e"
   },
   "outputs": [
    {
     "data": {
      "text/html": [
       "\n",
       "  <div id=\"df-7743060b-e4c9-4441-93ba-567879a80a13\">\n",
       "    <div class=\"colab-df-container\">\n",
       "      <div>\n",
       "<style scoped>\n",
       "    .dataframe tbody tr th:only-of-type {\n",
       "        vertical-align: middle;\n",
       "    }\n",
       "\n",
       "    .dataframe tbody tr th {\n",
       "        vertical-align: top;\n",
       "    }\n",
       "\n",
       "    .dataframe thead th {\n",
       "        text-align: right;\n",
       "    }\n",
       "</style>\n",
       "<table border=\"1\" class=\"dataframe\">\n",
       "  <thead>\n",
       "    <tr style=\"text-align: right;\">\n",
       "      <th></th>\n",
       "      <th>Price</th>\n",
       "      <th>RegistrationYear</th>\n",
       "      <th>Power</th>\n",
       "      <th>Mileage</th>\n",
       "      <th>RegistrationMonth</th>\n",
       "      <th>NumberOfPictures</th>\n",
       "      <th>PostalCode</th>\n",
       "    </tr>\n",
       "  </thead>\n",
       "  <tbody>\n",
       "    <tr>\n",
       "      <th>count</th>\n",
       "      <td>354369.000000</td>\n",
       "      <td>354369.000000</td>\n",
       "      <td>354369.000000</td>\n",
       "      <td>354369.000000</td>\n",
       "      <td>354369.000000</td>\n",
       "      <td>354369.0</td>\n",
       "      <td>354369.000000</td>\n",
       "    </tr>\n",
       "    <tr>\n",
       "      <th>mean</th>\n",
       "      <td>4416.656776</td>\n",
       "      <td>2004.234448</td>\n",
       "      <td>110.094337</td>\n",
       "      <td>128211.172535</td>\n",
       "      <td>5.714645</td>\n",
       "      <td>0.0</td>\n",
       "      <td>50508.689087</td>\n",
       "    </tr>\n",
       "    <tr>\n",
       "      <th>std</th>\n",
       "      <td>4514.158514</td>\n",
       "      <td>90.227958</td>\n",
       "      <td>189.850405</td>\n",
       "      <td>37905.341530</td>\n",
       "      <td>3.726421</td>\n",
       "      <td>0.0</td>\n",
       "      <td>25783.096248</td>\n",
       "    </tr>\n",
       "    <tr>\n",
       "      <th>min</th>\n",
       "      <td>0.000000</td>\n",
       "      <td>1000.000000</td>\n",
       "      <td>0.000000</td>\n",
       "      <td>5000.000000</td>\n",
       "      <td>0.000000</td>\n",
       "      <td>0.0</td>\n",
       "      <td>1067.000000</td>\n",
       "    </tr>\n",
       "    <tr>\n",
       "      <th>25%</th>\n",
       "      <td>1050.000000</td>\n",
       "      <td>1999.000000</td>\n",
       "      <td>69.000000</td>\n",
       "      <td>125000.000000</td>\n",
       "      <td>3.000000</td>\n",
       "      <td>0.0</td>\n",
       "      <td>30165.000000</td>\n",
       "    </tr>\n",
       "    <tr>\n",
       "      <th>50%</th>\n",
       "      <td>2700.000000</td>\n",
       "      <td>2003.000000</td>\n",
       "      <td>105.000000</td>\n",
       "      <td>150000.000000</td>\n",
       "      <td>6.000000</td>\n",
       "      <td>0.0</td>\n",
       "      <td>49413.000000</td>\n",
       "    </tr>\n",
       "    <tr>\n",
       "      <th>75%</th>\n",
       "      <td>6400.000000</td>\n",
       "      <td>2008.000000</td>\n",
       "      <td>143.000000</td>\n",
       "      <td>150000.000000</td>\n",
       "      <td>9.000000</td>\n",
       "      <td>0.0</td>\n",
       "      <td>71083.000000</td>\n",
       "    </tr>\n",
       "    <tr>\n",
       "      <th>max</th>\n",
       "      <td>20000.000000</td>\n",
       "      <td>9999.000000</td>\n",
       "      <td>20000.000000</td>\n",
       "      <td>150000.000000</td>\n",
       "      <td>12.000000</td>\n",
       "      <td>0.0</td>\n",
       "      <td>99998.000000</td>\n",
       "    </tr>\n",
       "  </tbody>\n",
       "</table>\n",
       "</div>\n",
       "      <button class=\"colab-df-convert\" onclick=\"convertToInteractive('df-7743060b-e4c9-4441-93ba-567879a80a13')\"\n",
       "              title=\"Convert this dataframe to an interactive table.\"\n",
       "              style=\"display:none;\">\n",
       "        \n",
       "  <svg xmlns=\"http://www.w3.org/2000/svg\" height=\"24px\"viewBox=\"0 0 24 24\"\n",
       "       width=\"24px\">\n",
       "    <path d=\"M0 0h24v24H0V0z\" fill=\"none\"/>\n",
       "    <path d=\"M18.56 5.44l.94 2.06.94-2.06 2.06-.94-2.06-.94-.94-2.06-.94 2.06-2.06.94zm-11 1L8.5 8.5l.94-2.06 2.06-.94-2.06-.94L8.5 2.5l-.94 2.06-2.06.94zm10 10l.94 2.06.94-2.06 2.06-.94-2.06-.94-.94-2.06-.94 2.06-2.06.94z\"/><path d=\"M17.41 7.96l-1.37-1.37c-.4-.4-.92-.59-1.43-.59-.52 0-1.04.2-1.43.59L10.3 9.45l-7.72 7.72c-.78.78-.78 2.05 0 2.83L4 21.41c.39.39.9.59 1.41.59.51 0 1.02-.2 1.41-.59l7.78-7.78 2.81-2.81c.8-.78.8-2.07 0-2.86zM5.41 20L4 18.59l7.72-7.72 1.47 1.35L5.41 20z\"/>\n",
       "  </svg>\n",
       "      </button>\n",
       "      \n",
       "  <style>\n",
       "    .colab-df-container {\n",
       "      display:flex;\n",
       "      flex-wrap:wrap;\n",
       "      gap: 12px;\n",
       "    }\n",
       "\n",
       "    .colab-df-convert {\n",
       "      background-color: #E8F0FE;\n",
       "      border: none;\n",
       "      border-radius: 50%;\n",
       "      cursor: pointer;\n",
       "      display: none;\n",
       "      fill: #1967D2;\n",
       "      height: 32px;\n",
       "      padding: 0 0 0 0;\n",
       "      width: 32px;\n",
       "    }\n",
       "\n",
       "    .colab-df-convert:hover {\n",
       "      background-color: #E2EBFA;\n",
       "      box-shadow: 0px 1px 2px rgba(60, 64, 67, 0.3), 0px 1px 3px 1px rgba(60, 64, 67, 0.15);\n",
       "      fill: #174EA6;\n",
       "    }\n",
       "\n",
       "    [theme=dark] .colab-df-convert {\n",
       "      background-color: #3B4455;\n",
       "      fill: #D2E3FC;\n",
       "    }\n",
       "\n",
       "    [theme=dark] .colab-df-convert:hover {\n",
       "      background-color: #434B5C;\n",
       "      box-shadow: 0px 1px 3px 1px rgba(0, 0, 0, 0.15);\n",
       "      filter: drop-shadow(0px 1px 2px rgba(0, 0, 0, 0.3));\n",
       "      fill: #FFFFFF;\n",
       "    }\n",
       "  </style>\n",
       "\n",
       "      <script>\n",
       "        const buttonEl =\n",
       "          document.querySelector('#df-7743060b-e4c9-4441-93ba-567879a80a13 button.colab-df-convert');\n",
       "        buttonEl.style.display =\n",
       "          google.colab.kernel.accessAllowed ? 'block' : 'none';\n",
       "\n",
       "        async function convertToInteractive(key) {\n",
       "          const element = document.querySelector('#df-7743060b-e4c9-4441-93ba-567879a80a13');\n",
       "          const dataTable =\n",
       "            await google.colab.kernel.invokeFunction('convertToInteractive',\n",
       "                                                     [key], {});\n",
       "          if (!dataTable) return;\n",
       "\n",
       "          const docLinkHtml = 'Like what you see? Visit the ' +\n",
       "            '<a target=\"_blank\" href=https://colab.research.google.com/notebooks/data_table.ipynb>data table notebook</a>'\n",
       "            + ' to learn more about interactive tables.';\n",
       "          element.innerHTML = '';\n",
       "          dataTable['output_type'] = 'display_data';\n",
       "          await google.colab.output.renderOutput(dataTable, element);\n",
       "          const docLink = document.createElement('div');\n",
       "          docLink.innerHTML = docLinkHtml;\n",
       "          element.appendChild(docLink);\n",
       "        }\n",
       "      </script>\n",
       "    </div>\n",
       "  </div>\n",
       "  "
      ],
      "text/plain": [
       "               Price  RegistrationYear          Power        Mileage  \\\n",
       "count  354369.000000     354369.000000  354369.000000  354369.000000   \n",
       "mean     4416.656776       2004.234448     110.094337  128211.172535   \n",
       "std      4514.158514         90.227958     189.850405   37905.341530   \n",
       "min         0.000000       1000.000000       0.000000    5000.000000   \n",
       "25%      1050.000000       1999.000000      69.000000  125000.000000   \n",
       "50%      2700.000000       2003.000000     105.000000  150000.000000   \n",
       "75%      6400.000000       2008.000000     143.000000  150000.000000   \n",
       "max     20000.000000       9999.000000   20000.000000  150000.000000   \n",
       "\n",
       "       RegistrationMonth  NumberOfPictures     PostalCode  \n",
       "count      354369.000000          354369.0  354369.000000  \n",
       "mean            5.714645               0.0   50508.689087  \n",
       "std             3.726421               0.0   25783.096248  \n",
       "min             0.000000               0.0    1067.000000  \n",
       "25%             3.000000               0.0   30165.000000  \n",
       "50%             6.000000               0.0   49413.000000  \n",
       "75%             9.000000               0.0   71083.000000  \n",
       "max            12.000000               0.0   99998.000000  "
      ]
     },
     "execution_count": 94,
     "metadata": {},
     "output_type": "execute_result"
    }
   ],
   "source": [
    "df.describe()"
   ]
  },
  {
   "cell_type": "markdown",
   "metadata": {
    "id": "eR2N1AcRudCy"
   },
   "source": [
    "Se observa una muestra de valores extraños al emplear la descripción de lso datos, en la columna de `'RegistrationYear'` Se evidencia que existen años muy superiores al año cursante luego del tercer cuartil, y antes dle primer cuartil, también se evidencian valores muy por debajo incluso de la epoca en la que los autos existían, para observar esto de mejor manera se realiza un gráfico de caja y bigotes. "
   ]
  },
  {
   "cell_type": "code",
   "execution_count": 95,
   "metadata": {
    "colab": {
     "base_uri": "https://localhost:8080/",
     "height": 447
    },
    "id": "Qoi8ge0Prg96",
    "outputId": "84e84851-574f-4b92-a138-7b75ef67d5d3"
   },
   "outputs": [
    {
     "data": {
      "text/plain": [
       "<Axes: >"
      ]
     },
     "execution_count": 95,
     "metadata": {},
     "output_type": "execute_result"
    },
    {
     "data": {
      "image/png": "[encoded data removed]",
      "text/plain": [
       "<Figure size 640x480 with 1 Axes>"
      ]
     },
     "metadata": {},
     "output_type": "display_data"
    }
   ],
   "source": [
    "df.boxplot('RegistrationYear')"
   ]
  },
  {
   "cell_type": "markdown",
   "metadata": {
    "id": "S8S92HJhu_v6"
   },
   "source": [
    "Para solucionar este problema, se ópta por truncar los valores desde 1985, hasta el 2023, ya que así eliminamos los atípicos."
   ]
  },
  {
   "cell_type": "code",
   "execution_count": 96,
   "metadata": {
    "id": "GDjerA760vu9"
   },
   "outputs": [],
   "source": [
    "original_length = len(df)    #Almacenamos el valor del tamaño original del DataFrame para poder derminar posteriomente la cantidad de valores eliminados"
   ]
  },
  {
   "cell_type": "code",
   "execution_count": 97,
   "metadata": {
    "id": "49lcyThkr4MM"
   },
   "outputs": [],
   "source": [
    "df = df[(df['RegistrationYear'] < 2023 )& (df['RegistrationYear'] > 1985)]"
   ]
  },
  {
   "cell_type": "code",
   "execution_count": 98,
   "metadata": {
    "colab": {
     "base_uri": "https://localhost:8080/",
     "height": 447
    },
    "id": "T1_jihjVtiUn",
    "outputId": "a201dc83-1e1b-4a26-e495-ee602ea1846e"
   },
   "outputs": [
    {
     "data": {
      "text/plain": [
       "<Axes: >"
      ]
     },
     "execution_count": 98,
     "metadata": {},
     "output_type": "execute_result"
    },
    {
     "data": {
      "image/png": "[encoded data removed]",
      "text/plain": [
       "<Figure size 640x480 with 1 Axes>"
      ]
     },
     "metadata": {},
     "output_type": "display_data"
    }
   ],
   "source": [
    "df.boxplot('RegistrationYear')"
   ]
  },
  {
   "cell_type": "markdown",
   "metadata": {
    "id": "3UL2O61Gubr9"
   },
   "source": [
    "Como se observa, ya los valores tiene más sentido, realizando el cálculo de los datos perdidos en este caso, tenemos que:"
   ]
  },
  {
   "cell_type": "code",
   "execution_count": 99,
   "metadata": {
    "colab": {
     "base_uri": "https://localhost:8080/"
    },
    "id": "JVAYuxqBvsqv",
    "outputId": "6c6cc548-8bf9-4403-f356-df6e82b933d5"
   },
   "outputs": [
    {
     "data": {
      "text/plain": [
       "1.7803476037689527"
      ]
     },
     "execution_count": 99,
     "metadata": {},
     "output_type": "execute_result"
    }
   ],
   "source": [
    "(original_length  - len(df))*100 /354369 "
   ]
  },
  {
   "cell_type": "markdown",
   "metadata": {
    "id": "GXVbqjf4wGfU"
   },
   "source": [
    "Solamente se perdió el 1.78% de los datos una cifra bastante insignificante que no afectará el resultado final"
   ]
  },
  {
   "cell_type": "markdown",
   "metadata": {
    "id": "BVKFhwz9zxZt"
   },
   "source": [
    "Se observa que la cantidad de nulos es considerble y al tratarse de observaciones categóricas, en este caso, no sería correcto que sean sutituidas por los valores más communes como la moda, o por alguna distribución aleatoria, ya que entrenaríamos al modelo con modelos de autos innexistentes, lo cual puede que a futuro ocacione algun error que conlleve a una mala predicción. Es por ello que se opta por borrarlos. Sin embargo antes, se evidenciará cual será el porcentaje de perdida"
   ]
  },
  {
   "cell_type": "code",
   "execution_count": 100,
   "metadata": {
    "colab": {
     "base_uri": "https://localhost:8080/"
    },
    "id": "poAQdgQOyQDg",
    "outputId": "c369c304-5bd5-4047-fb68-956d75a097de"
   },
   "outputs": [
    {
     "data": {
      "text/plain": [
       "18.630408550249957"
      ]
     },
     "execution_count": 100,
     "metadata": {},
     "output_type": "execute_result"
    }
   ],
   "source": [
    "(len(df) -283215)*100 / len(df)"
   ]
  },
  {
   "cell_type": "markdown",
   "metadata": {
    "id": "Ha1znY0JzMZy"
   },
   "source": [
    "Como se evidencia es bastante alto, estamo en torno al 20% de datos borrados, sin embargo, por lo antes descritos, se puede considerar un mal necesario."
   ]
  },
  {
   "cell_type": "code",
   "execution_count": 101,
   "metadata": {
    "id": "hmPJ494iZOli"
   },
   "outputs": [],
   "source": [
    "df = df.drop(df[df['VehicleType'].isna()].index, axis = 0)"
   ]
  },
  {
   "cell_type": "code",
   "execution_count": 102,
   "metadata": {
    "colab": {
     "base_uri": "https://localhost:8080/"
    },
    "id": "9YCuaqEbZiC7",
    "outputId": "9b8019e5-6751-4478-ba47-5c19770be4da"
   },
   "outputs": [
    {
     "name": "stdout",
     "output_type": "stream",
     "text": [
      "<class 'pandas.core.frame.DataFrame'>\n",
      "Int64Index: 311730 entries, 1 to 354368\n",
      "Data columns (total 16 columns):\n",
      " #   Column             Non-Null Count   Dtype \n",
      "---  ------             --------------   ----- \n",
      " 0   DateCrawled        311730 non-null  object\n",
      " 1   Price              311730 non-null  int64 \n",
      " 2   VehicleType        311730 non-null  object\n",
      " 3   RegistrationYear   311730 non-null  int64 \n",
      " 4   Gearbox            302430 non-null  object\n",
      " 5   Power              311730 non-null  int64 \n",
      " 6   Model              299794 non-null  object\n",
      " 7   Mileage            311730 non-null  int64 \n",
      " 8   RegistrationMonth  311730 non-null  int64 \n",
      " 9   FuelType           296714 non-null  object\n",
      " 10  Brand              311730 non-null  object\n",
      " 11  NotRepaired        262428 non-null  object\n",
      " 12  DateCreated        311730 non-null  object\n",
      " 13  NumberOfPictures   311730 non-null  int64 \n",
      " 14  PostalCode         311730 non-null  int64 \n",
      " 15  LastSeen           311730 non-null  object\n",
      "dtypes: int64(7), object(9)\n",
      "memory usage: 40.4+ MB\n"
     ]
    }
   ],
   "source": [
    "df.info()"
   ]
  },
  {
   "cell_type": "code",
   "execution_count": 103,
   "metadata": {
    "id": "xGyIMDldfQBr"
   },
   "outputs": [],
   "source": [
    "df = df.drop(df[df['Gearbox'].isna()].index, axis = 0)"
   ]
  },
  {
   "cell_type": "code",
   "execution_count": 104,
   "metadata": {
    "colab": {
     "base_uri": "https://localhost:8080/"
    },
    "id": "DI_7l9n2aW48",
    "outputId": "2617bb62-ffe5-42fe-9c55-4f5093a420b9"
   },
   "outputs": [
    {
     "name": "stdout",
     "output_type": "stream",
     "text": [
      "<class 'pandas.core.frame.DataFrame'>\n",
      "Int64Index: 302430 entries, 1 to 354368\n",
      "Data columns (total 16 columns):\n",
      " #   Column             Non-Null Count   Dtype \n",
      "---  ------             --------------   ----- \n",
      " 0   DateCrawled        302430 non-null  object\n",
      " 1   Price              302430 non-null  int64 \n",
      " 2   VehicleType        302430 non-null  object\n",
      " 3   RegistrationYear   302430 non-null  int64 \n",
      " 4   Gearbox            302430 non-null  object\n",
      " 5   Power              302430 non-null  int64 \n",
      " 6   Model              291454 non-null  object\n",
      " 7   Mileage            302430 non-null  int64 \n",
      " 8   RegistrationMonth  302430 non-null  int64 \n",
      " 9   FuelType           289234 non-null  object\n",
      " 10  Brand              302430 non-null  object\n",
      " 11  NotRepaired        257248 non-null  object\n",
      " 12  DateCreated        302430 non-null  object\n",
      " 13  NumberOfPictures   302430 non-null  int64 \n",
      " 14  PostalCode         302430 non-null  int64 \n",
      " 15  LastSeen           302430 non-null  object\n",
      "dtypes: int64(7), object(9)\n",
      "memory usage: 39.2+ MB\n"
     ]
    }
   ],
   "source": [
    "df.info()"
   ]
  },
  {
   "cell_type": "code",
   "execution_count": 105,
   "metadata": {
    "id": "9YMDNH6cfcy7"
   },
   "outputs": [],
   "source": [
    "df = df.drop(df[df['Model'].isna()].index, axis = 0)"
   ]
  },
  {
   "cell_type": "code",
   "execution_count": 106,
   "metadata": {
    "colab": {
     "base_uri": "https://localhost:8080/"
    },
    "id": "MNd7cUibakcg",
    "outputId": "3268a0cd-6641-4de1-8ae8-cf99c4e0dc00"
   },
   "outputs": [
    {
     "name": "stdout",
     "output_type": "stream",
     "text": [
      "<class 'pandas.core.frame.DataFrame'>\n",
      "Int64Index: 291454 entries, 2 to 354368\n",
      "Data columns (total 16 columns):\n",
      " #   Column             Non-Null Count   Dtype \n",
      "---  ------             --------------   ----- \n",
      " 0   DateCrawled        291454 non-null  object\n",
      " 1   Price              291454 non-null  int64 \n",
      " 2   VehicleType        291454 non-null  object\n",
      " 3   RegistrationYear   291454 non-null  int64 \n",
      " 4   Gearbox            291454 non-null  object\n",
      " 5   Power              291454 non-null  int64 \n",
      " 6   Model              291454 non-null  object\n",
      " 7   Mileage            291454 non-null  int64 \n",
      " 8   RegistrationMonth  291454 non-null  int64 \n",
      " 9   FuelType           280497 non-null  object\n",
      " 10  Brand              291454 non-null  object\n",
      " 11  NotRepaired        249910 non-null  object\n",
      " 12  DateCreated        291454 non-null  object\n",
      " 13  NumberOfPictures   291454 non-null  int64 \n",
      " 14  PostalCode         291454 non-null  int64 \n",
      " 15  LastSeen           291454 non-null  object\n",
      "dtypes: int64(7), object(9)\n",
      "memory usage: 37.8+ MB\n"
     ]
    }
   ],
   "source": [
    "df.info()"
   ]
  },
  {
   "cell_type": "code",
   "execution_count": 107,
   "metadata": {
    "id": "ei--lAenfY8G"
   },
   "outputs": [],
   "source": [
    "df = df.drop(df[df['FuelType'].isna()].index, axis = 0)"
   ]
  },
  {
   "cell_type": "code",
   "execution_count": 108,
   "metadata": {
    "colab": {
     "base_uri": "https://localhost:8080/"
    },
    "id": "3nlRDbExazPX",
    "outputId": "b10eea54-c181-4e05-97ca-2ebb225b7fa0"
   },
   "outputs": [
    {
     "name": "stdout",
     "output_type": "stream",
     "text": [
      "<class 'pandas.core.frame.DataFrame'>\n",
      "Int64Index: 280497 entries, 2 to 354368\n",
      "Data columns (total 16 columns):\n",
      " #   Column             Non-Null Count   Dtype \n",
      "---  ------             --------------   ----- \n",
      " 0   DateCrawled        280497 non-null  object\n",
      " 1   Price              280497 non-null  int64 \n",
      " 2   VehicleType        280497 non-null  object\n",
      " 3   RegistrationYear   280497 non-null  int64 \n",
      " 4   Gearbox            280497 non-null  object\n",
      " 5   Power              280497 non-null  int64 \n",
      " 6   Model              280497 non-null  object\n",
      " 7   Mileage            280497 non-null  int64 \n",
      " 8   RegistrationMonth  280497 non-null  int64 \n",
      " 9   FuelType           280497 non-null  object\n",
      " 10  Brand              280497 non-null  object\n",
      " 11  NotRepaired        242910 non-null  object\n",
      " 12  DateCreated        280497 non-null  object\n",
      " 13  NumberOfPictures   280497 non-null  int64 \n",
      " 14  PostalCode         280497 non-null  int64 \n",
      " 15  LastSeen           280497 non-null  object\n",
      "dtypes: int64(7), object(9)\n",
      "memory usage: 36.4+ MB\n"
     ]
    }
   ],
   "source": [
    "df.info()"
   ]
  },
  {
   "cell_type": "markdown",
   "metadata": {
    "id": "1ScBcFA50HOH"
   },
   "source": [
    "Por último al tratarse de una condición de si el auto ha sido o no reparado, se opta por colocar que no a los valores nulos, ya que es lo más probale en la mayoriaía de los casos."
   ]
  },
  {
   "cell_type": "code",
   "execution_count": 109,
   "metadata": {
    "colab": {
     "base_uri": "https://localhost:8080/"
    },
    "id": "GemgH1h4fyCQ",
    "outputId": "9312a703-6a09-416a-bd84-b14c39bad735"
   },
   "outputs": [
    {
     "data": {
      "text/plain": [
       "array([nan, 'no', 'yes'], dtype=object)"
      ]
     },
     "execution_count": 109,
     "metadata": {},
     "output_type": "execute_result"
    }
   ],
   "source": [
    "df['NotRepaired'].unique()"
   ]
  },
  {
   "cell_type": "code",
   "execution_count": 110,
   "metadata": {
    "id": "CRJIRq5Wjfum"
   },
   "outputs": [],
   "source": [
    "df['NotRepaired'] = df['NotRepaired'].fillna('no')"
   ]
  },
  {
   "cell_type": "code",
   "execution_count": 111,
   "metadata": {
    "colab": {
     "base_uri": "https://localhost:8080/"
    },
    "id": "LUJawfuG0bsK",
    "outputId": "0b1d5513-fe5a-431b-ea89-baab86483a47"
   },
   "outputs": [
    {
     "name": "stdout",
     "output_type": "stream",
     "text": [
      "<class 'pandas.core.frame.DataFrame'>\n",
      "Int64Index: 280497 entries, 2 to 354368\n",
      "Data columns (total 16 columns):\n",
      " #   Column             Non-Null Count   Dtype \n",
      "---  ------             --------------   ----- \n",
      " 0   DateCrawled        280497 non-null  object\n",
      " 1   Price              280497 non-null  int64 \n",
      " 2   VehicleType        280497 non-null  object\n",
      " 3   RegistrationYear   280497 non-null  int64 \n",
      " 4   Gearbox            280497 non-null  object\n",
      " 5   Power              280497 non-null  int64 \n",
      " 6   Model              280497 non-null  object\n",
      " 7   Mileage            280497 non-null  int64 \n",
      " 8   RegistrationMonth  280497 non-null  int64 \n",
      " 9   FuelType           280497 non-null  object\n",
      " 10  Brand              280497 non-null  object\n",
      " 11  NotRepaired        280497 non-null  object\n",
      " 12  DateCreated        280497 non-null  object\n",
      " 13  NumberOfPictures   280497 non-null  int64 \n",
      " 14  PostalCode         280497 non-null  int64 \n",
      " 15  LastSeen           280497 non-null  object\n",
      "dtypes: int64(7), object(9)\n",
      "memory usage: 36.4+ MB\n"
     ]
    }
   ],
   "source": [
    "df.info()"
   ]
  },
  {
   "cell_type": "markdown",
   "metadata": {
    "id": "coOgRQIy0jvS"
   },
   "source": [
    "En total se eliminó el:"
   ]
  },
  {
   "cell_type": "code",
   "execution_count": 112,
   "metadata": {
    "colab": {
     "base_uri": "https://localhost:8080/"
    },
    "id": "ZpvVsK_F0lqj",
    "outputId": "aae87fc1-60e2-49a1-baac-7371ae0f7a31"
   },
   "outputs": [
    {
     "data": {
      "text/plain": [
       "20.846067235000802"
      ]
     },
     "execution_count": 112,
     "metadata": {},
     "output_type": "execute_result"
    }
   ],
   "source": [
    "(original_length-len(df))*100 / original_length"
   ]
  },
  {
   "cell_type": "markdown",
   "metadata": {
    "id": "DipFKOVt15OZ"
   },
   "source": [
    "Como se predijo se eliminó 1/5 de los datos, sin embargo, es un mal necesario para velar por el buen funcionamiento del modelo a futuro, y que de esta manera cosas como un Toyota Aveo a disel no existan"
   ]
  },
  {
   "cell_type": "markdown",
   "metadata": {
    "id": "HY2OyoZX0vpD"
   },
   "source": [
    "## Entrenamiento del modelo "
   ]
  },
  {
   "cell_type": "markdown",
   "metadata": {
    "id": "5vMASGAb0WfN"
   },
   "source": [
    "Previamente antes de  entrenar el modelo que nos permita determinar cual es el precio de un auto. se deben eliminar las características que no aportan nada a la predicción ya que no es una carcaterística del auto persé y por tanto no influye en su precio. Estas serían la fecha en la que la persona se inscribión en la página, el mes de matriculación del vehículo, el código postal, la ultimas vez quelio vieron, y el número de fotos en la publicación."
   ]
  },
  {
   "cell_type": "code",
   "execution_count": 113,
   "metadata": {
    "id": "iKnSh3IiBA9d"
   },
   "outputs": [],
   "source": [
    "df_clean = df.drop(['DateCrawled','DateCreated',\t'PostalCode',\t'LastSeen','RegistrationMonth','NumberOfPictures'], axis = 1)"
   ]
  },
  {
   "cell_type": "code",
   "execution_count": 137,
   "metadata": {
    "id": "Y9JP6GZl4-xx"
   },
   "outputs": [],
   "source": [
    "df_clean = df_clean.reset_index(drop = True)"
   ]
  },
  {
   "cell_type": "code",
   "execution_count": 138,
   "metadata": {
    "colab": {
     "base_uri": "https://localhost:8080/",
     "height": 363
    },
    "id": "TMHt1SMzJHOf",
    "outputId": "f22093db-eb2c-4990-e233-a7da5a635d34"
   },
   "outputs": [
    {
     "data": {
      "text/html": [
       "\n",
       "  <div id=\"df-b06a6ab7-0e9a-4a1b-a9aa-23c2085dfc58\">\n",
       "    <div class=\"colab-df-container\">\n",
       "      <div>\n",
       "<style scoped>\n",
       "    .dataframe tbody tr th:only-of-type {\n",
       "        vertical-align: middle;\n",
       "    }\n",
       "\n",
       "    .dataframe tbody tr th {\n",
       "        vertical-align: top;\n",
       "    }\n",
       "\n",
       "    .dataframe thead th {\n",
       "        text-align: right;\n",
       "    }\n",
       "</style>\n",
       "<table border=\"1\" class=\"dataframe\">\n",
       "  <thead>\n",
       "    <tr style=\"text-align: right;\">\n",
       "      <th></th>\n",
       "      <th>Price</th>\n",
       "      <th>VehicleType</th>\n",
       "      <th>RegistrationYear</th>\n",
       "      <th>Gearbox</th>\n",
       "      <th>Power</th>\n",
       "      <th>Model</th>\n",
       "      <th>Mileage</th>\n",
       "      <th>FuelType</th>\n",
       "      <th>Brand</th>\n",
       "      <th>NotRepaired</th>\n",
       "    </tr>\n",
       "  </thead>\n",
       "  <tbody>\n",
       "    <tr>\n",
       "      <th>0</th>\n",
       "      <td>9800</td>\n",
       "      <td>suv</td>\n",
       "      <td>2004</td>\n",
       "      <td>auto</td>\n",
       "      <td>163</td>\n",
       "      <td>grand</td>\n",
       "      <td>125000</td>\n",
       "      <td>gasoline</td>\n",
       "      <td>jeep</td>\n",
       "      <td>no</td>\n",
       "    </tr>\n",
       "    <tr>\n",
       "      <th>1</th>\n",
       "      <td>1500</td>\n",
       "      <td>small</td>\n",
       "      <td>2001</td>\n",
       "      <td>manual</td>\n",
       "      <td>75</td>\n",
       "      <td>golf</td>\n",
       "      <td>150000</td>\n",
       "      <td>petrol</td>\n",
       "      <td>volkswagen</td>\n",
       "      <td>no</td>\n",
       "    </tr>\n",
       "    <tr>\n",
       "      <th>2</th>\n",
       "      <td>3600</td>\n",
       "      <td>small</td>\n",
       "      <td>2008</td>\n",
       "      <td>manual</td>\n",
       "      <td>69</td>\n",
       "      <td>fabia</td>\n",
       "      <td>90000</td>\n",
       "      <td>gasoline</td>\n",
       "      <td>skoda</td>\n",
       "      <td>no</td>\n",
       "    </tr>\n",
       "    <tr>\n",
       "      <th>3</th>\n",
       "      <td>650</td>\n",
       "      <td>sedan</td>\n",
       "      <td>1995</td>\n",
       "      <td>manual</td>\n",
       "      <td>102</td>\n",
       "      <td>3er</td>\n",
       "      <td>150000</td>\n",
       "      <td>petrol</td>\n",
       "      <td>bmw</td>\n",
       "      <td>yes</td>\n",
       "    </tr>\n",
       "    <tr>\n",
       "      <th>4</th>\n",
       "      <td>2200</td>\n",
       "      <td>convertible</td>\n",
       "      <td>2004</td>\n",
       "      <td>manual</td>\n",
       "      <td>109</td>\n",
       "      <td>2_reihe</td>\n",
       "      <td>150000</td>\n",
       "      <td>petrol</td>\n",
       "      <td>peugeot</td>\n",
       "      <td>no</td>\n",
       "    </tr>\n",
       "    <tr>\n",
       "      <th>5</th>\n",
       "      <td>14500</td>\n",
       "      <td>bus</td>\n",
       "      <td>2014</td>\n",
       "      <td>manual</td>\n",
       "      <td>125</td>\n",
       "      <td>c_max</td>\n",
       "      <td>30000</td>\n",
       "      <td>petrol</td>\n",
       "      <td>ford</td>\n",
       "      <td>no</td>\n",
       "    </tr>\n",
       "    <tr>\n",
       "      <th>6</th>\n",
       "      <td>2000</td>\n",
       "      <td>sedan</td>\n",
       "      <td>2004</td>\n",
       "      <td>manual</td>\n",
       "      <td>105</td>\n",
       "      <td>3_reihe</td>\n",
       "      <td>150000</td>\n",
       "      <td>petrol</td>\n",
       "      <td>mazda</td>\n",
       "      <td>no</td>\n",
       "    </tr>\n",
       "    <tr>\n",
       "      <th>7</th>\n",
       "      <td>2799</td>\n",
       "      <td>wagon</td>\n",
       "      <td>2005</td>\n",
       "      <td>manual</td>\n",
       "      <td>140</td>\n",
       "      <td>passat</td>\n",
       "      <td>150000</td>\n",
       "      <td>gasoline</td>\n",
       "      <td>volkswagen</td>\n",
       "      <td>yes</td>\n",
       "    </tr>\n",
       "    <tr>\n",
       "      <th>8</th>\n",
       "      <td>999</td>\n",
       "      <td>wagon</td>\n",
       "      <td>1995</td>\n",
       "      <td>manual</td>\n",
       "      <td>115</td>\n",
       "      <td>passat</td>\n",
       "      <td>150000</td>\n",
       "      <td>petrol</td>\n",
       "      <td>volkswagen</td>\n",
       "      <td>no</td>\n",
       "    </tr>\n",
       "    <tr>\n",
       "      <th>9</th>\n",
       "      <td>17999</td>\n",
       "      <td>suv</td>\n",
       "      <td>2011</td>\n",
       "      <td>manual</td>\n",
       "      <td>190</td>\n",
       "      <td>navara</td>\n",
       "      <td>70000</td>\n",
       "      <td>gasoline</td>\n",
       "      <td>nissan</td>\n",
       "      <td>no</td>\n",
       "    </tr>\n",
       "  </tbody>\n",
       "</table>\n",
       "</div>\n",
       "      <button class=\"colab-df-convert\" onclick=\"convertToInteractive('df-b06a6ab7-0e9a-4a1b-a9aa-23c2085dfc58')\"\n",
       "              title=\"Convert this dataframe to an interactive table.\"\n",
       "              style=\"display:none;\">\n",
       "        \n",
       "  <svg xmlns=\"http://www.w3.org/2000/svg\" height=\"24px\"viewBox=\"0 0 24 24\"\n",
       "       width=\"24px\">\n",
       "    <path d=\"M0 0h24v24H0V0z\" fill=\"none\"/>\n",
       "    <path d=\"M18.56 5.44l.94 2.06.94-2.06 2.06-.94-2.06-.94-.94-2.06-.94 2.06-2.06.94zm-11 1L8.5 8.5l.94-2.06 2.06-.94-2.06-.94L8.5 2.5l-.94 2.06-2.06.94zm10 10l.94 2.06.94-2.06 2.06-.94-2.06-.94-.94-2.06-.94 2.06-2.06.94z\"/><path d=\"M17.41 7.96l-1.37-1.37c-.4-.4-.92-.59-1.43-.59-.52 0-1.04.2-1.43.59L10.3 9.45l-7.72 7.72c-.78.78-.78 2.05 0 2.83L4 21.41c.39.39.9.59 1.41.59.51 0 1.02-.2 1.41-.59l7.78-7.78 2.81-2.81c.8-.78.8-2.07 0-2.86zM5.41 20L4 18.59l7.72-7.72 1.47 1.35L5.41 20z\"/>\n",
       "  </svg>\n",
       "      </button>\n",
       "      \n",
       "  <style>\n",
       "    .colab-df-container {\n",
       "      display:flex;\n",
       "      flex-wrap:wrap;\n",
       "      gap: 12px;\n",
       "    }\n",
       "\n",
       "    .colab-df-convert {\n",
       "      background-color: #E8F0FE;\n",
       "      border: none;\n",
       "      border-radius: 50%;\n",
       "      cursor: pointer;\n",
       "      display: none;\n",
       "      fill: #1967D2;\n",
       "      height: 32px;\n",
       "      padding: 0 0 0 0;\n",
       "      width: 32px;\n",
       "    }\n",
       "\n",
       "    .colab-df-convert:hover {\n",
       "      background-color: #E2EBFA;\n",
       "      box-shadow: 0px 1px 2px rgba(60, 64, 67, 0.3), 0px 1px 3px 1px rgba(60, 64, 67, 0.15);\n",
       "      fill: #174EA6;\n",
       "    }\n",
       "\n",
       "    [theme=dark] .colab-df-convert {\n",
       "      background-color: #3B4455;\n",
       "      fill: #D2E3FC;\n",
       "    }\n",
       "\n",
       "    [theme=dark] .colab-df-convert:hover {\n",
       "      background-color: #434B5C;\n",
       "      box-shadow: 0px 1px 3px 1px rgba(0, 0, 0, 0.15);\n",
       "      filter: drop-shadow(0px 1px 2px rgba(0, 0, 0, 0.3));\n",
       "      fill: #FFFFFF;\n",
       "    }\n",
       "  </style>\n",
       "\n",
       "      <script>\n",
       "        const buttonEl =\n",
       "          document.querySelector('#df-b06a6ab7-0e9a-4a1b-a9aa-23c2085dfc58 button.colab-df-convert');\n",
       "        buttonEl.style.display =\n",
       "          google.colab.kernel.accessAllowed ? 'block' : 'none';\n",
       "\n",
       "        async function convertToInteractive(key) {\n",
       "          const element = document.querySelector('#df-b06a6ab7-0e9a-4a1b-a9aa-23c2085dfc58');\n",
       "          const dataTable =\n",
       "            await google.colab.kernel.invokeFunction('convertToInteractive',\n",
       "                                                     [key], {});\n",
       "          if (!dataTable) return;\n",
       "\n",
       "          const docLinkHtml = 'Like what you see? Visit the ' +\n",
       "            '<a target=\"_blank\" href=https://colab.research.google.com/notebooks/data_table.ipynb>data table notebook</a>'\n",
       "            + ' to learn more about interactive tables.';\n",
       "          element.innerHTML = '';\n",
       "          dataTable['output_type'] = 'display_data';\n",
       "          await google.colab.output.renderOutput(dataTable, element);\n",
       "          const docLink = document.createElement('div');\n",
       "          docLink.innerHTML = docLinkHtml;\n",
       "          element.appendChild(docLink);\n",
       "        }\n",
       "      </script>\n",
       "    </div>\n",
       "  </div>\n",
       "  "
      ],
      "text/plain": [
       "   Price  VehicleType  RegistrationYear Gearbox  Power    Model  Mileage  \\\n",
       "0   9800          suv              2004    auto    163    grand   125000   \n",
       "1   1500        small              2001  manual     75     golf   150000   \n",
       "2   3600        small              2008  manual     69    fabia    90000   \n",
       "3    650        sedan              1995  manual    102      3er   150000   \n",
       "4   2200  convertible              2004  manual    109  2_reihe   150000   \n",
       "5  14500          bus              2014  manual    125    c_max    30000   \n",
       "6   2000        sedan              2004  manual    105  3_reihe   150000   \n",
       "7   2799        wagon              2005  manual    140   passat   150000   \n",
       "8    999        wagon              1995  manual    115   passat   150000   \n",
       "9  17999          suv              2011  manual    190   navara    70000   \n",
       "\n",
       "   FuelType       Brand NotRepaired  \n",
       "0  gasoline        jeep          no  \n",
       "1    petrol  volkswagen          no  \n",
       "2  gasoline       skoda          no  \n",
       "3    petrol         bmw         yes  \n",
       "4    petrol     peugeot          no  \n",
       "5    petrol        ford          no  \n",
       "6    petrol       mazda          no  \n",
       "7  gasoline  volkswagen         yes  \n",
       "8    petrol  volkswagen          no  \n",
       "9  gasoline      nissan          no  "
      ]
     },
     "execution_count": 138,
     "metadata": {},
     "output_type": "execute_result"
    }
   ],
   "source": [
    "df_clean.head(10)"
   ]
  },
  {
   "cell_type": "markdown",
   "metadata": {
    "id": "Xn5PHrnG07k7"
   },
   "source": [
    "Para poder realizar un algoritmo de machine learning que nos permita encontar el precio del vehículo, se deben pasar las variables categótricas a númericas, y luego estandaraixzar todo, para no dar más relecvancia a ciertos algotirmos más qeu a otros. "
   ]
  },
  {
   "cell_type": "code",
   "execution_count": 139,
   "metadata": {
    "id": "nBLlLqP9Qbig"
   },
   "outputs": [],
   "source": [
    "encoder = OrdinalEncoder()"
   ]
  },
  {
   "cell_type": "code",
   "execution_count": 140,
   "metadata": {
    "id": "E4nZjYW-2s8w"
   },
   "outputs": [],
   "source": [
    "categ = ['VehicleType',\t'Gearbox', 'Model',\t'FuelType',\t'Brand',\t'NotRepaired']\n",
    "numeric = ['Price', 'RegistrationYear',\t'Power',\t'Mileage']"
   ]
  },
  {
   "cell_type": "markdown",
   "metadata": {
    "id": "7zytt-1s4ce4"
   },
   "source": [
    "Se procede a la trnasformación de categóricas a numéricas"
   ]
  },
  {
   "cell_type": "code",
   "execution_count": 141,
   "metadata": {
    "id": "u90ai2Za0vpD"
   },
   "outputs": [],
   "source": [
    "data_ordinal_categ = pd.DataFrame(encoder.fit_transform(df_clean[categ]),columns=categ)  "
   ]
  },
  {
   "cell_type": "markdown",
   "metadata": {
    "id": "nBbXh7Zh4iyf"
   },
   "source": [
    "Se realiza el concatenado de las numéricas con las categóricas "
   ]
  },
  {
   "cell_type": "code",
   "execution_count": 144,
   "metadata": {
    "id": "X0OhlX2C3woc"
   },
   "outputs": [],
   "source": [
    "data_ordinal = pd.concat([data_ordinal_categ, df_clean[numeric]], axis = 1)"
   ]
  },
  {
   "cell_type": "code",
   "execution_count": 145,
   "metadata": {
    "colab": {
     "base_uri": "https://localhost:8080/",
     "height": 206
    },
    "id": "-xSzqe6D4muK",
    "outputId": "36047ae0-d4b3-4600-eb3c-2dc0b8b37470"
   },
   "outputs": [
    {
     "data": {
      "text/html": [
       "\n",
       "  <div id=\"df-1af8c7ef-c33b-4973-9f29-e1591ffcfac1\">\n",
       "    <div class=\"colab-df-container\">\n",
       "      <div>\n",
       "<style scoped>\n",
       "    .dataframe tbody tr th:only-of-type {\n",
       "        vertical-align: middle;\n",
       "    }\n",
       "\n",
       "    .dataframe tbody tr th {\n",
       "        vertical-align: top;\n",
       "    }\n",
       "\n",
       "    .dataframe thead th {\n",
       "        text-align: right;\n",
       "    }\n",
       "</style>\n",
       "<table border=\"1\" class=\"dataframe\">\n",
       "  <thead>\n",
       "    <tr style=\"text-align: right;\">\n",
       "      <th></th>\n",
       "      <th>VehicleType</th>\n",
       "      <th>Gearbox</th>\n",
       "      <th>Model</th>\n",
       "      <th>FuelType</th>\n",
       "      <th>Brand</th>\n",
       "      <th>NotRepaired</th>\n",
       "      <th>Price</th>\n",
       "      <th>RegistrationYear</th>\n",
       "      <th>Power</th>\n",
       "      <th>Mileage</th>\n",
       "    </tr>\n",
       "  </thead>\n",
       "  <tbody>\n",
       "    <tr>\n",
       "      <th>0</th>\n",
       "      <td>6.0</td>\n",
       "      <td>0.0</td>\n",
       "      <td>117.0</td>\n",
       "      <td>2.0</td>\n",
       "      <td>14.0</td>\n",
       "      <td>0.0</td>\n",
       "      <td>9800</td>\n",
       "      <td>2004</td>\n",
       "      <td>163</td>\n",
       "      <td>125000</td>\n",
       "    </tr>\n",
       "    <tr>\n",
       "      <th>1</th>\n",
       "      <td>5.0</td>\n",
       "      <td>1.0</td>\n",
       "      <td>116.0</td>\n",
       "      <td>6.0</td>\n",
       "      <td>37.0</td>\n",
       "      <td>0.0</td>\n",
       "      <td>1500</td>\n",
       "      <td>2001</td>\n",
       "      <td>75</td>\n",
       "      <td>150000</td>\n",
       "    </tr>\n",
       "    <tr>\n",
       "      <th>2</th>\n",
       "      <td>5.0</td>\n",
       "      <td>1.0</td>\n",
       "      <td>101.0</td>\n",
       "      <td>2.0</td>\n",
       "      <td>31.0</td>\n",
       "      <td>0.0</td>\n",
       "      <td>3600</td>\n",
       "      <td>2008</td>\n",
       "      <td>69</td>\n",
       "      <td>90000</td>\n",
       "    </tr>\n",
       "    <tr>\n",
       "      <th>3</th>\n",
       "      <td>4.0</td>\n",
       "      <td>1.0</td>\n",
       "      <td>11.0</td>\n",
       "      <td>6.0</td>\n",
       "      <td>2.0</td>\n",
       "      <td>1.0</td>\n",
       "      <td>650</td>\n",
       "      <td>1995</td>\n",
       "      <td>102</td>\n",
       "      <td>150000</td>\n",
       "    </tr>\n",
       "    <tr>\n",
       "      <th>4</th>\n",
       "      <td>1.0</td>\n",
       "      <td>1.0</td>\n",
       "      <td>8.0</td>\n",
       "      <td>6.0</td>\n",
       "      <td>25.0</td>\n",
       "      <td>0.0</td>\n",
       "      <td>2200</td>\n",
       "      <td>2004</td>\n",
       "      <td>109</td>\n",
       "      <td>150000</td>\n",
       "    </tr>\n",
       "  </tbody>\n",
       "</table>\n",
       "</div>\n",
       "      <button class=\"colab-df-convert\" onclick=\"convertToInteractive('df-1af8c7ef-c33b-4973-9f29-e1591ffcfac1')\"\n",
       "              title=\"Convert this dataframe to an interactive table.\"\n",
       "              style=\"display:none;\">\n",
       "        \n",
       "  <svg xmlns=\"http://www.w3.org/2000/svg\" height=\"24px\"viewBox=\"0 0 24 24\"\n",
       "       width=\"24px\">\n",
       "    <path d=\"M0 0h24v24H0V0z\" fill=\"none\"/>\n",
       "    <path d=\"M18.56 5.44l.94 2.06.94-2.06 2.06-.94-2.06-.94-.94-2.06-.94 2.06-2.06.94zm-11 1L8.5 8.5l.94-2.06 2.06-.94-2.06-.94L8.5 2.5l-.94 2.06-2.06.94zm10 10l.94 2.06.94-2.06 2.06-.94-2.06-.94-.94-2.06-.94 2.06-2.06.94z\"/><path d=\"M17.41 7.96l-1.37-1.37c-.4-.4-.92-.59-1.43-.59-.52 0-1.04.2-1.43.59L10.3 9.45l-7.72 7.72c-.78.78-.78 2.05 0 2.83L4 21.41c.39.39.9.59 1.41.59.51 0 1.02-.2 1.41-.59l7.78-7.78 2.81-2.81c.8-.78.8-2.07 0-2.86zM5.41 20L4 18.59l7.72-7.72 1.47 1.35L5.41 20z\"/>\n",
       "  </svg>\n",
       "      </button>\n",
       "      \n",
       "  <style>\n",
       "    .colab-df-container {\n",
       "      display:flex;\n",
       "      flex-wrap:wrap;\n",
       "      gap: 12px;\n",
       "    }\n",
       "\n",
       "    .colab-df-convert {\n",
       "      background-color: #E8F0FE;\n",
       "      border: none;\n",
       "      border-radius: 50%;\n",
       "      cursor: pointer;\n",
       "      display: none;\n",
       "      fill: #1967D2;\n",
       "      height: 32px;\n",
       "      padding: 0 0 0 0;\n",
       "      width: 32px;\n",
       "    }\n",
       "\n",
       "    .colab-df-convert:hover {\n",
       "      background-color: #E2EBFA;\n",
       "      box-shadow: 0px 1px 2px rgba(60, 64, 67, 0.3), 0px 1px 3px 1px rgba(60, 64, 67, 0.15);\n",
       "      fill: #174EA6;\n",
       "    }\n",
       "\n",
       "    [theme=dark] .colab-df-convert {\n",
       "      background-color: #3B4455;\n",
       "      fill: #D2E3FC;\n",
       "    }\n",
       "\n",
       "    [theme=dark] .colab-df-convert:hover {\n",
       "      background-color: #434B5C;\n",
       "      box-shadow: 0px 1px 3px 1px rgba(0, 0, 0, 0.15);\n",
       "      filter: drop-shadow(0px 1px 2px rgba(0, 0, 0, 0.3));\n",
       "      fill: #FFFFFF;\n",
       "    }\n",
       "  </style>\n",
       "\n",
       "      <script>\n",
       "        const buttonEl =\n",
       "          document.querySelector('#df-1af8c7ef-c33b-4973-9f29-e1591ffcfac1 button.colab-df-convert');\n",
       "        buttonEl.style.display =\n",
       "          google.colab.kernel.accessAllowed ? 'block' : 'none';\n",
       "\n",
       "        async function convertToInteractive(key) {\n",
       "          const element = document.querySelector('#df-1af8c7ef-c33b-4973-9f29-e1591ffcfac1');\n",
       "          const dataTable =\n",
       "            await google.colab.kernel.invokeFunction('convertToInteractive',\n",
       "                                                     [key], {});\n",
       "          if (!dataTable) return;\n",
       "\n",
       "          const docLinkHtml = 'Like what you see? Visit the ' +\n",
       "            '<a target=\"_blank\" href=https://colab.research.google.com/notebooks/data_table.ipynb>data table notebook</a>'\n",
       "            + ' to learn more about interactive tables.';\n",
       "          element.innerHTML = '';\n",
       "          dataTable['output_type'] = 'display_data';\n",
       "          await google.colab.output.renderOutput(dataTable, element);\n",
       "          const docLink = document.createElement('div');\n",
       "          docLink.innerHTML = docLinkHtml;\n",
       "          element.appendChild(docLink);\n",
       "        }\n",
       "      </script>\n",
       "    </div>\n",
       "  </div>\n",
       "  "
      ],
      "text/plain": [
       "   VehicleType  Gearbox  Model  FuelType  Brand  NotRepaired  Price  \\\n",
       "0          6.0      0.0  117.0       2.0   14.0          0.0   9800   \n",
       "1          5.0      1.0  116.0       6.0   37.0          0.0   1500   \n",
       "2          5.0      1.0  101.0       2.0   31.0          0.0   3600   \n",
       "3          4.0      1.0   11.0       6.0    2.0          1.0    650   \n",
       "4          1.0      1.0    8.0       6.0   25.0          0.0   2200   \n",
       "\n",
       "   RegistrationYear  Power  Mileage  \n",
       "0              2004    163   125000  \n",
       "1              2001     75   150000  \n",
       "2              2008     69    90000  \n",
       "3              1995    102   150000  \n",
       "4              2004    109   150000  "
      ]
     },
     "execution_count": 145,
     "metadata": {},
     "output_type": "execute_result"
    }
   ],
   "source": [
    "data_ordinal.head()"
   ]
  },
  {
   "cell_type": "code",
   "execution_count": 146,
   "metadata": {
    "id": "bz5B_L15AKjq"
   },
   "outputs": [],
   "source": [
    "scaler = StandardScaler()"
   ]
  },
  {
   "cell_type": "code",
   "execution_count": 152,
   "metadata": {
    "id": "e2uVyzHi6Sa5"
   },
   "outputs": [],
   "source": [
    "var_to_scaler = ['Price', 'RegistrationYear',\t'Power',\t'Mileage', \t'NotRepaired']\n",
    "var_not_scaler = ['VehicleType',\t'Gearbox', 'Model',\t'FuelType',\t'Brand']"
   ]
  },
  {
   "cell_type": "code",
   "execution_count": 154,
   "metadata": {
    "id": "XML6Um49SeY6"
   },
   "outputs": [],
   "source": [
    "data_to_scaled = pd.DataFrame(scaler.fit_transform(data_ordinal[var_to_scaler ]), columns = var_to_scaler )"
   ]
  },
  {
   "cell_type": "code",
   "execution_count": 156,
   "metadata": {
    "id": "ijbUdeLu60IN"
   },
   "outputs": [],
   "source": [
    "data_scaled = pd.concat([data_to_scaled , data_ordinal[var_not_scaler]], axis = 1)"
   ]
  },
  {
   "cell_type": "code",
   "execution_count": 173,
   "metadata": {
    "colab": {
     "base_uri": "https://localhost:8080/",
     "height": 363
    },
    "id": "VZm0kHcsTf0Q",
    "outputId": "6373accd-3071-4828-bf02-168f9830c52f"
   },
   "outputs": [
    {
     "data": {
      "text/html": [
       "\n",
       "  <div id=\"df-8c31655c-fa29-40b0-a4ee-7b7d276efcb1\">\n",
       "    <div class=\"colab-df-container\">\n",
       "      <div>\n",
       "<style scoped>\n",
       "    .dataframe tbody tr th:only-of-type {\n",
       "        vertical-align: middle;\n",
       "    }\n",
       "\n",
       "    .dataframe tbody tr th {\n",
       "        vertical-align: top;\n",
       "    }\n",
       "\n",
       "    .dataframe thead th {\n",
       "        text-align: right;\n",
       "    }\n",
       "</style>\n",
       "<table border=\"1\" class=\"dataframe\">\n",
       "  <thead>\n",
       "    <tr style=\"text-align: right;\">\n",
       "      <th></th>\n",
       "      <th>Price</th>\n",
       "      <th>RegistrationYear</th>\n",
       "      <th>Power</th>\n",
       "      <th>Mileage</th>\n",
       "      <th>NotRepaired</th>\n",
       "      <th>VehicleType</th>\n",
       "      <th>Gearbox</th>\n",
       "      <th>Model</th>\n",
       "      <th>FuelType</th>\n",
       "      <th>Brand</th>\n",
       "    </tr>\n",
       "  </thead>\n",
       "  <tbody>\n",
       "    <tr>\n",
       "      <th>0</th>\n",
       "      <td>1.074836</td>\n",
       "      <td>0.201303</td>\n",
       "      <td>0.264221</td>\n",
       "      <td>-0.098212</td>\n",
       "      <td>-0.329466</td>\n",
       "      <td>6.0</td>\n",
       "      <td>0.0</td>\n",
       "      <td>117.0</td>\n",
       "      <td>2.0</td>\n",
       "      <td>14.0</td>\n",
       "    </tr>\n",
       "    <tr>\n",
       "      <th>1</th>\n",
       "      <td>-0.718813</td>\n",
       "      <td>-0.350823</td>\n",
       "      <td>-0.253514</td>\n",
       "      <td>0.587761</td>\n",
       "      <td>-0.329466</td>\n",
       "      <td>5.0</td>\n",
       "      <td>1.0</td>\n",
       "      <td>116.0</td>\n",
       "      <td>6.0</td>\n",
       "      <td>37.0</td>\n",
       "    </tr>\n",
       "    <tr>\n",
       "      <th>2</th>\n",
       "      <td>-0.264998</td>\n",
       "      <td>0.937470</td>\n",
       "      <td>-0.288814</td>\n",
       "      <td>-1.058575</td>\n",
       "      <td>-0.329466</td>\n",
       "      <td>5.0</td>\n",
       "      <td>1.0</td>\n",
       "      <td>101.0</td>\n",
       "      <td>2.0</td>\n",
       "      <td>31.0</td>\n",
       "    </tr>\n",
       "    <tr>\n",
       "      <th>3</th>\n",
       "      <td>-0.902500</td>\n",
       "      <td>-1.455074</td>\n",
       "      <td>-0.094664</td>\n",
       "      <td>0.587761</td>\n",
       "      <td>3.035213</td>\n",
       "      <td>4.0</td>\n",
       "      <td>1.0</td>\n",
       "      <td>11.0</td>\n",
       "      <td>6.0</td>\n",
       "      <td>2.0</td>\n",
       "    </tr>\n",
       "    <tr>\n",
       "      <th>4</th>\n",
       "      <td>-0.567542</td>\n",
       "      <td>0.201303</td>\n",
       "      <td>-0.053480</td>\n",
       "      <td>0.587761</td>\n",
       "      <td>-0.329466</td>\n",
       "      <td>1.0</td>\n",
       "      <td>1.0</td>\n",
       "      <td>8.0</td>\n",
       "      <td>6.0</td>\n",
       "      <td>25.0</td>\n",
       "    </tr>\n",
       "    <tr>\n",
       "      <th>5</th>\n",
       "      <td>2.090517</td>\n",
       "      <td>2.041721</td>\n",
       "      <td>0.040653</td>\n",
       "      <td>-2.704912</td>\n",
       "      <td>-0.329466</td>\n",
       "      <td>0.0</td>\n",
       "      <td>1.0</td>\n",
       "      <td>60.0</td>\n",
       "      <td>6.0</td>\n",
       "      <td>10.0</td>\n",
       "    </tr>\n",
       "    <tr>\n",
       "      <th>6</th>\n",
       "      <td>-0.610762</td>\n",
       "      <td>0.201303</td>\n",
       "      <td>-0.077014</td>\n",
       "      <td>0.587761</td>\n",
       "      <td>-0.329466</td>\n",
       "      <td>4.0</td>\n",
       "      <td>1.0</td>\n",
       "      <td>10.0</td>\n",
       "      <td>6.0</td>\n",
       "      <td>19.0</td>\n",
       "    </tr>\n",
       "    <tr>\n",
       "      <th>7</th>\n",
       "      <td>-0.438096</td>\n",
       "      <td>0.385344</td>\n",
       "      <td>0.128904</td>\n",
       "      <td>0.587761</td>\n",
       "      <td>3.035213</td>\n",
       "      <td>7.0</td>\n",
       "      <td>1.0</td>\n",
       "      <td>170.0</td>\n",
       "      <td>2.0</td>\n",
       "      <td>37.0</td>\n",
       "    </tr>\n",
       "    <tr>\n",
       "      <th>8</th>\n",
       "      <td>-0.827080</td>\n",
       "      <td>-1.455074</td>\n",
       "      <td>-0.018180</td>\n",
       "      <td>0.587761</td>\n",
       "      <td>-0.329466</td>\n",
       "      <td>7.0</td>\n",
       "      <td>1.0</td>\n",
       "      <td>170.0</td>\n",
       "      <td>6.0</td>\n",
       "      <td>37.0</td>\n",
       "    </tr>\n",
       "    <tr>\n",
       "      <th>9</th>\n",
       "      <td>2.846659</td>\n",
       "      <td>1.489595</td>\n",
       "      <td>0.423071</td>\n",
       "      <td>-1.607354</td>\n",
       "      <td>-0.329466</td>\n",
       "      <td>6.0</td>\n",
       "      <td>1.0</td>\n",
       "      <td>159.0</td>\n",
       "      <td>2.0</td>\n",
       "      <td>23.0</td>\n",
       "    </tr>\n",
       "  </tbody>\n",
       "</table>\n",
       "</div>\n",
       "      <button class=\"colab-df-convert\" onclick=\"convertToInteractive('df-8c31655c-fa29-40b0-a4ee-7b7d276efcb1')\"\n",
       "              title=\"Convert this dataframe to an interactive table.\"\n",
       "              style=\"display:none;\">\n",
       "        \n",
       "  <svg xmlns=\"http://www.w3.org/2000/svg\" height=\"24px\"viewBox=\"0 0 24 24\"\n",
       "       width=\"24px\">\n",
       "    <path d=\"M0 0h24v24H0V0z\" fill=\"none\"/>\n",
       "    <path d=\"M18.56 5.44l.94 2.06.94-2.06 2.06-.94-2.06-.94-.94-2.06-.94 2.06-2.06.94zm-11 1L8.5 8.5l.94-2.06 2.06-.94-2.06-.94L8.5 2.5l-.94 2.06-2.06.94zm10 10l.94 2.06.94-2.06 2.06-.94-2.06-.94-.94-2.06-.94 2.06-2.06.94z\"/><path d=\"M17.41 7.96l-1.37-1.37c-.4-.4-.92-.59-1.43-.59-.52 0-1.04.2-1.43.59L10.3 9.45l-7.72 7.72c-.78.78-.78 2.05 0 2.83L4 21.41c.39.39.9.59 1.41.59.51 0 1.02-.2 1.41-.59l7.78-7.78 2.81-2.81c.8-.78.8-2.07 0-2.86zM5.41 20L4 18.59l7.72-7.72 1.47 1.35L5.41 20z\"/>\n",
       "  </svg>\n",
       "      </button>\n",
       "      \n",
       "  <style>\n",
       "    .colab-df-container {\n",
       "      display:flex;\n",
       "      flex-wrap:wrap;\n",
       "      gap: 12px;\n",
       "    }\n",
       "\n",
       "    .colab-df-convert {\n",
       "      background-color: #E8F0FE;\n",
       "      border: none;\n",
       "      border-radius: 50%;\n",
       "      cursor: pointer;\n",
       "      display: none;\n",
       "      fill: #1967D2;\n",
       "      height: 32px;\n",
       "      padding: 0 0 0 0;\n",
       "      width: 32px;\n",
       "    }\n",
       "\n",
       "    .colab-df-convert:hover {\n",
       "      background-color: #E2EBFA;\n",
       "      box-shadow: 0px 1px 2px rgba(60, 64, 67, 0.3), 0px 1px 3px 1px rgba(60, 64, 67, 0.15);\n",
       "      fill: #174EA6;\n",
       "    }\n",
       "\n",
       "    [theme=dark] .colab-df-convert {\n",
       "      background-color: #3B4455;\n",
       "      fill: #D2E3FC;\n",
       "    }\n",
       "\n",
       "    [theme=dark] .colab-df-convert:hover {\n",
       "      background-color: #434B5C;\n",
       "      box-shadow: 0px 1px 3px 1px rgba(0, 0, 0, 0.15);\n",
       "      filter: drop-shadow(0px 1px 2px rgba(0, 0, 0, 0.3));\n",
       "      fill: #FFFFFF;\n",
       "    }\n",
       "  </style>\n",
       "\n",
       "      <script>\n",
       "        const buttonEl =\n",
       "          document.querySelector('#df-8c31655c-fa29-40b0-a4ee-7b7d276efcb1 button.colab-df-convert');\n",
       "        buttonEl.style.display =\n",
       "          google.colab.kernel.accessAllowed ? 'block' : 'none';\n",
       "\n",
       "        async function convertToInteractive(key) {\n",
       "          const element = document.querySelector('#df-8c31655c-fa29-40b0-a4ee-7b7d276efcb1');\n",
       "          const dataTable =\n",
       "            await google.colab.kernel.invokeFunction('convertToInteractive',\n",
       "                                                     [key], {});\n",
       "          if (!dataTable) return;\n",
       "\n",
       "          const docLinkHtml = 'Like what you see? Visit the ' +\n",
       "            '<a target=\"_blank\" href=https://colab.research.google.com/notebooks/data_table.ipynb>data table notebook</a>'\n",
       "            + ' to learn more about interactive tables.';\n",
       "          element.innerHTML = '';\n",
       "          dataTable['output_type'] = 'display_data';\n",
       "          await google.colab.output.renderOutput(dataTable, element);\n",
       "          const docLink = document.createElement('div');\n",
       "          docLink.innerHTML = docLinkHtml;\n",
       "          element.appendChild(docLink);\n",
       "        }\n",
       "      </script>\n",
       "    </div>\n",
       "  </div>\n",
       "  "
      ],
      "text/plain": [
       "      Price  RegistrationYear     Power   Mileage  NotRepaired  VehicleType  \\\n",
       "0  1.074836          0.201303  0.264221 -0.098212    -0.329466          6.0   \n",
       "1 -0.718813         -0.350823 -0.253514  0.587761    -0.329466          5.0   \n",
       "2 -0.264998          0.937470 -0.288814 -1.058575    -0.329466          5.0   \n",
       "3 -0.902500         -1.455074 -0.094664  0.587761     3.035213          4.0   \n",
       "4 -0.567542          0.201303 -0.053480  0.587761    -0.329466          1.0   \n",
       "5  2.090517          2.041721  0.040653 -2.704912    -0.329466          0.0   \n",
       "6 -0.610762          0.201303 -0.077014  0.587761    -0.329466          4.0   \n",
       "7 -0.438096          0.385344  0.128904  0.587761     3.035213          7.0   \n",
       "8 -0.827080         -1.455074 -0.018180  0.587761    -0.329466          7.0   \n",
       "9  2.846659          1.489595  0.423071 -1.607354    -0.329466          6.0   \n",
       "\n",
       "   Gearbox  Model  FuelType  Brand  \n",
       "0      0.0  117.0       2.0   14.0  \n",
       "1      1.0  116.0       6.0   37.0  \n",
       "2      1.0  101.0       2.0   31.0  \n",
       "3      1.0   11.0       6.0    2.0  \n",
       "4      1.0    8.0       6.0   25.0  \n",
       "5      1.0   60.0       6.0   10.0  \n",
       "6      1.0   10.0       6.0   19.0  \n",
       "7      1.0  170.0       2.0   37.0  \n",
       "8      1.0  170.0       6.0   37.0  \n",
       "9      1.0  159.0       2.0   23.0  "
      ]
     },
     "execution_count": 173,
     "metadata": {},
     "output_type": "execute_result"
    }
   ],
   "source": [
    "data_scaled.head(10)"
   ]
  },
  {
   "cell_type": "code",
   "execution_count": 158,
   "metadata": {
    "colab": {
     "base_uri": "https://localhost:8080/"
    },
    "id": "b00GpC3IWhJ5",
    "outputId": "fc80eef4-5661-4572-c384-5ea632ef2977"
   },
   "outputs": [
    {
     "name": "stdout",
     "output_type": "stream",
     "text": [
      "<class 'pandas.core.frame.DataFrame'>\n",
      "RangeIndex: 280497 entries, 0 to 280496\n",
      "Data columns (total 10 columns):\n",
      " #   Column            Non-Null Count   Dtype  \n",
      "---  ------            --------------   -----  \n",
      " 0   Price             280497 non-null  float64\n",
      " 1   RegistrationYear  280497 non-null  float64\n",
      " 2   Power             280497 non-null  float64\n",
      " 3   Mileage           280497 non-null  float64\n",
      " 4   NotRepaired       280497 non-null  float64\n",
      " 5   VehicleType       280497 non-null  float64\n",
      " 6   Gearbox           280497 non-null  float64\n",
      " 7   Model             280497 non-null  float64\n",
      " 8   FuelType          280497 non-null  float64\n",
      " 9   Brand             280497 non-null  float64\n",
      "dtypes: float64(10)\n",
      "memory usage: 21.4 MB\n"
     ]
    }
   ],
   "source": [
    "data_scaled.info()"
   ]
  },
  {
   "cell_type": "markdown",
   "metadata": {
    "id": "Pg_zYKSo1Rok"
   },
   "source": [
    "Una vez escaldos y demostrando que no hay valores nulos, se procede a dividir el conjunto de entreanmiento en features y targests y a su vez en entrenamiento y validación."
   ]
  },
  {
   "cell_type": "code",
   "execution_count": 160,
   "metadata": {
    "id": "PKZ6lIghRf49"
   },
   "outputs": [],
   "source": [
    "X = data_scaled.drop(['Price'], axis = 1)\n",
    "y = data_scaled['Price']"
   ]
  },
  {
   "cell_type": "code",
   "execution_count": 161,
   "metadata": {
    "id": "OVm9ocjwR6Fs"
   },
   "outputs": [],
   "source": [
    "X_train, X_valid, y_train, y_valid = train_test_split(X , y, test_size=0.40, random_state=12345)"
   ]
  },
  {
   "cell_type": "code",
   "execution_count": 162,
   "metadata": {
    "id": "sRvN-iAS8QA8"
   },
   "outputs": [],
   "source": [
    "X_valid, X_test, y_valid, y_test = train_test_split(X_valid , y_valid, test_size=0.50, random_state=12345)"
   ]
  },
  {
   "cell_type": "code",
   "execution_count": 165,
   "metadata": {
    "colab": {
     "base_uri": "https://localhost:8080/"
    },
    "id": "kgf5LAez8lus",
    "outputId": "bb8d9132-b406-489e-d791-089a26e8984f"
   },
   "outputs": [
    {
     "data": {
      "text/plain": [
       "(168298, 9)"
      ]
     },
     "execution_count": 165,
     "metadata": {},
     "output_type": "execute_result"
    }
   ],
   "source": [
    "X_train.shape"
   ]
  },
  {
   "cell_type": "code",
   "execution_count": 166,
   "metadata": {
    "colab": {
     "base_uri": "https://localhost:8080/"
    },
    "id": "qdIwbtg08o1U",
    "outputId": "bbdde228-5163-4b5f-8d12-9973b6cdc3af"
   },
   "outputs": [
    {
     "data": {
      "text/plain": [
       "(56099, 9)"
      ]
     },
     "execution_count": 166,
     "metadata": {},
     "output_type": "execute_result"
    }
   ],
   "source": [
    "X_valid.shape"
   ]
  },
  {
   "cell_type": "code",
   "execution_count": 167,
   "metadata": {
    "colab": {
     "base_uri": "https://localhost:8080/"
    },
    "id": "kk91pB_R8r7t",
    "outputId": "b4d19a01-54dc-4ccd-b4e1-e0b9dc57160b"
   },
   "outputs": [
    {
     "data": {
      "text/plain": [
       "(56100, 9)"
      ]
     },
     "execution_count": 167,
     "metadata": {},
     "output_type": "execute_result"
    }
   ],
   "source": [
    "X_test.shape"
   ]
  },
  {
   "cell_type": "markdown",
   "metadata": {
    "id": "eb6zpOWw1jdl"
   },
   "source": [
    "Primeramente se realiza un algoritmo de regresión lineal, con la finalidad de que sirva como punto de comparación para el resto de modelos."
   ]
  },
  {
   "cell_type": "code",
   "execution_count": 172,
   "metadata": {
    "colab": {
     "base_uri": "https://localhost:8080/",
     "height": 424
    },
    "id": "8gNnjkXG9Q1v",
    "outputId": "8073f5c4-2ee3-4c59-be5a-dfdc53a468ce"
   },
   "outputs": [
    {
     "data": {
      "text/html": [
       "\n",
       "  <div id=\"df-6d65ca9c-5df6-483c-8ea4-ab6c2e388d9a\">\n",
       "    <div class=\"colab-df-container\">\n",
       "      <div>\n",
       "<style scoped>\n",
       "    .dataframe tbody tr th:only-of-type {\n",
       "        vertical-align: middle;\n",
       "    }\n",
       "\n",
       "    .dataframe tbody tr th {\n",
       "        vertical-align: top;\n",
       "    }\n",
       "\n",
       "    .dataframe thead th {\n",
       "        text-align: right;\n",
       "    }\n",
       "</style>\n",
       "<table border=\"1\" class=\"dataframe\">\n",
       "  <thead>\n",
       "    <tr style=\"text-align: right;\">\n",
       "      <th></th>\n",
       "      <th>RegistrationYear</th>\n",
       "      <th>Power</th>\n",
       "      <th>Mileage</th>\n",
       "      <th>NotRepaired</th>\n",
       "      <th>VehicleType</th>\n",
       "      <th>Gearbox</th>\n",
       "      <th>Model</th>\n",
       "      <th>FuelType</th>\n",
       "      <th>Brand</th>\n",
       "    </tr>\n",
       "  </thead>\n",
       "  <tbody>\n",
       "    <tr>\n",
       "      <th>0</th>\n",
       "      <td>False</td>\n",
       "      <td>False</td>\n",
       "      <td>False</td>\n",
       "      <td>False</td>\n",
       "      <td>False</td>\n",
       "      <td>False</td>\n",
       "      <td>False</td>\n",
       "      <td>False</td>\n",
       "      <td>False</td>\n",
       "    </tr>\n",
       "    <tr>\n",
       "      <th>1</th>\n",
       "      <td>False</td>\n",
       "      <td>False</td>\n",
       "      <td>False</td>\n",
       "      <td>False</td>\n",
       "      <td>False</td>\n",
       "      <td>False</td>\n",
       "      <td>False</td>\n",
       "      <td>False</td>\n",
       "      <td>False</td>\n",
       "    </tr>\n",
       "    <tr>\n",
       "      <th>2</th>\n",
       "      <td>False</td>\n",
       "      <td>False</td>\n",
       "      <td>False</td>\n",
       "      <td>False</td>\n",
       "      <td>False</td>\n",
       "      <td>False</td>\n",
       "      <td>False</td>\n",
       "      <td>False</td>\n",
       "      <td>False</td>\n",
       "    </tr>\n",
       "    <tr>\n",
       "      <th>3</th>\n",
       "      <td>False</td>\n",
       "      <td>False</td>\n",
       "      <td>False</td>\n",
       "      <td>False</td>\n",
       "      <td>False</td>\n",
       "      <td>False</td>\n",
       "      <td>False</td>\n",
       "      <td>False</td>\n",
       "      <td>False</td>\n",
       "    </tr>\n",
       "    <tr>\n",
       "      <th>4</th>\n",
       "      <td>False</td>\n",
       "      <td>False</td>\n",
       "      <td>False</td>\n",
       "      <td>False</td>\n",
       "      <td>False</td>\n",
       "      <td>False</td>\n",
       "      <td>False</td>\n",
       "      <td>False</td>\n",
       "      <td>False</td>\n",
       "    </tr>\n",
       "    <tr>\n",
       "      <th>...</th>\n",
       "      <td>...</td>\n",
       "      <td>...</td>\n",
       "      <td>...</td>\n",
       "      <td>...</td>\n",
       "      <td>...</td>\n",
       "      <td>...</td>\n",
       "      <td>...</td>\n",
       "      <td>...</td>\n",
       "      <td>...</td>\n",
       "    </tr>\n",
       "    <tr>\n",
       "      <th>280492</th>\n",
       "      <td>False</td>\n",
       "      <td>False</td>\n",
       "      <td>False</td>\n",
       "      <td>False</td>\n",
       "      <td>False</td>\n",
       "      <td>False</td>\n",
       "      <td>False</td>\n",
       "      <td>False</td>\n",
       "      <td>False</td>\n",
       "    </tr>\n",
       "    <tr>\n",
       "      <th>280493</th>\n",
       "      <td>False</td>\n",
       "      <td>False</td>\n",
       "      <td>False</td>\n",
       "      <td>False</td>\n",
       "      <td>False</td>\n",
       "      <td>False</td>\n",
       "      <td>False</td>\n",
       "      <td>False</td>\n",
       "      <td>False</td>\n",
       "    </tr>\n",
       "    <tr>\n",
       "      <th>280494</th>\n",
       "      <td>False</td>\n",
       "      <td>False</td>\n",
       "      <td>False</td>\n",
       "      <td>False</td>\n",
       "      <td>False</td>\n",
       "      <td>False</td>\n",
       "      <td>False</td>\n",
       "      <td>False</td>\n",
       "      <td>False</td>\n",
       "    </tr>\n",
       "    <tr>\n",
       "      <th>280495</th>\n",
       "      <td>False</td>\n",
       "      <td>False</td>\n",
       "      <td>False</td>\n",
       "      <td>False</td>\n",
       "      <td>False</td>\n",
       "      <td>False</td>\n",
       "      <td>False</td>\n",
       "      <td>False</td>\n",
       "      <td>False</td>\n",
       "    </tr>\n",
       "    <tr>\n",
       "      <th>280496</th>\n",
       "      <td>False</td>\n",
       "      <td>False</td>\n",
       "      <td>False</td>\n",
       "      <td>False</td>\n",
       "      <td>False</td>\n",
       "      <td>False</td>\n",
       "      <td>False</td>\n",
       "      <td>False</td>\n",
       "      <td>False</td>\n",
       "    </tr>\n",
       "  </tbody>\n",
       "</table>\n",
       "<p>280497 rows × 9 columns</p>\n",
       "</div>\n",
       "      <button class=\"colab-df-convert\" onclick=\"convertToInteractive('df-6d65ca9c-5df6-483c-8ea4-ab6c2e388d9a')\"\n",
       "              title=\"Convert this dataframe to an interactive table.\"\n",
       "              style=\"display:none;\">\n",
       "        \n",
       "  <svg xmlns=\"http://www.w3.org/2000/svg\" height=\"24px\"viewBox=\"0 0 24 24\"\n",
       "       width=\"24px\">\n",
       "    <path d=\"M0 0h24v24H0V0z\" fill=\"none\"/>\n",
       "    <path d=\"M18.56 5.44l.94 2.06.94-2.06 2.06-.94-2.06-.94-.94-2.06-.94 2.06-2.06.94zm-11 1L8.5 8.5l.94-2.06 2.06-.94-2.06-.94L8.5 2.5l-.94 2.06-2.06.94zm10 10l.94 2.06.94-2.06 2.06-.94-2.06-.94-.94-2.06-.94 2.06-2.06.94z\"/><path d=\"M17.41 7.96l-1.37-1.37c-.4-.4-.92-.59-1.43-.59-.52 0-1.04.2-1.43.59L10.3 9.45l-7.72 7.72c-.78.78-.78 2.05 0 2.83L4 21.41c.39.39.9.59 1.41.59.51 0 1.02-.2 1.41-.59l7.78-7.78 2.81-2.81c.8-.78.8-2.07 0-2.86zM5.41 20L4 18.59l7.72-7.72 1.47 1.35L5.41 20z\"/>\n",
       "  </svg>\n",
       "      </button>\n",
       "      \n",
       "  <style>\n",
       "    .colab-df-container {\n",
       "      display:flex;\n",
       "      flex-wrap:wrap;\n",
       "      gap: 12px;\n",
       "    }\n",
       "\n",
       "    .colab-df-convert {\n",
       "      background-color: #E8F0FE;\n",
       "      border: none;\n",
       "      border-radius: 50%;\n",
       "      cursor: pointer;\n",
       "      display: none;\n",
       "      fill: #1967D2;\n",
       "      height: 32px;\n",
       "      padding: 0 0 0 0;\n",
       "      width: 32px;\n",
       "    }\n",
       "\n",
       "    .colab-df-convert:hover {\n",
       "      background-color: #E2EBFA;\n",
       "      box-shadow: 0px 1px 2px rgba(60, 64, 67, 0.3), 0px 1px 3px 1px rgba(60, 64, 67, 0.15);\n",
       "      fill: #174EA6;\n",
       "    }\n",
       "\n",
       "    [theme=dark] .colab-df-convert {\n",
       "      background-color: #3B4455;\n",
       "      fill: #D2E3FC;\n",
       "    }\n",
       "\n",
       "    [theme=dark] .colab-df-convert:hover {\n",
       "      background-color: #434B5C;\n",
       "      box-shadow: 0px 1px 3px 1px rgba(0, 0, 0, 0.15);\n",
       "      filter: drop-shadow(0px 1px 2px rgba(0, 0, 0, 0.3));\n",
       "      fill: #FFFFFF;\n",
       "    }\n",
       "  </style>\n",
       "\n",
       "      <script>\n",
       "        const buttonEl =\n",
       "          document.querySelector('#df-6d65ca9c-5df6-483c-8ea4-ab6c2e388d9a button.colab-df-convert');\n",
       "        buttonEl.style.display =\n",
       "          google.colab.kernel.accessAllowed ? 'block' : 'none';\n",
       "\n",
       "        async function convertToInteractive(key) {\n",
       "          const element = document.querySelector('#df-6d65ca9c-5df6-483c-8ea4-ab6c2e388d9a');\n",
       "          const dataTable =\n",
       "            await google.colab.kernel.invokeFunction('convertToInteractive',\n",
       "                                                     [key], {});\n",
       "          if (!dataTable) return;\n",
       "\n",
       "          const docLinkHtml = 'Like what you see? Visit the ' +\n",
       "            '<a target=\"_blank\" href=https://colab.research.google.com/notebooks/data_table.ipynb>data table notebook</a>'\n",
       "            + ' to learn more about interactive tables.';\n",
       "          element.innerHTML = '';\n",
       "          dataTable['output_type'] = 'display_data';\n",
       "          await google.colab.output.renderOutput(dataTable, element);\n",
       "          const docLink = document.createElement('div');\n",
       "          docLink.innerHTML = docLinkHtml;\n",
       "          element.appendChild(docLink);\n",
       "        }\n",
       "      </script>\n",
       "    </div>\n",
       "  </div>\n",
       "  "
      ],
      "text/plain": [
       "        RegistrationYear  Power  Mileage  NotRepaired  VehicleType  Gearbox  \\\n",
       "0                  False  False    False        False        False    False   \n",
       "1                  False  False    False        False        False    False   \n",
       "2                  False  False    False        False        False    False   \n",
       "3                  False  False    False        False        False    False   \n",
       "4                  False  False    False        False        False    False   \n",
       "...                  ...    ...      ...          ...          ...      ...   \n",
       "280492             False  False    False        False        False    False   \n",
       "280493             False  False    False        False        False    False   \n",
       "280494             False  False    False        False        False    False   \n",
       "280495             False  False    False        False        False    False   \n",
       "280496             False  False    False        False        False    False   \n",
       "\n",
       "        Model  FuelType  Brand  \n",
       "0       False     False  False  \n",
       "1       False     False  False  \n",
       "2       False     False  False  \n",
       "3       False     False  False  \n",
       "4       False     False  False  \n",
       "...       ...       ...    ...  \n",
       "280492  False     False  False  \n",
       "280493  False     False  False  \n",
       "280494  False     False  False  \n",
       "280495  False     False  False  \n",
       "280496  False     False  False  \n",
       "\n",
       "[280497 rows x 9 columns]"
      ]
     },
     "execution_count": 172,
     "metadata": {},
     "output_type": "execute_result"
    }
   ],
   "source": [
    "X.isna()"
   ]
  },
  {
   "cell_type": "markdown",
   "metadata": {
    "id": "KhQWjAr3UCpn"
   },
   "source": [
    "### Regresión lineal"
   ]
  },
  {
   "cell_type": "code",
   "execution_count": 218,
   "metadata": {
    "colab": {
     "base_uri": "https://localhost:8080/"
    },
    "id": "Wx6p6dfeQrvP",
    "outputId": "a3cd4d5d-05a8-4191-84f4-1e5ab9f0a9fb"
   },
   "outputs": [
    {
     "name": "stdout",
     "output_type": "stream",
     "text": [
      "CPU times: user 4 µs, sys: 0 ns, total: 4 µs\n",
      "Wall time: 8.11 µs\n",
      "RMSE = 67.32 %\n"
     ]
    }
   ],
   "source": [
    "%time\n",
    "model_reg = LinearRegression()\n",
    "model_reg.fit(X_train,y_train)\n",
    "predict_reg = model_reg.predict(X_valid)\n",
    "print(f'RMSE = {round(mean_squared_error(y_valid,predict_reg)**(1/2) * 100,2)} %')"
   ]
  },
  {
   "cell_type": "markdown",
   "metadata": {
    "id": "uGbcS-2V1tiE"
   },
   "source": [
    "Como se observa, aplicando la metrica de la raiz del error cuadrático medio podemos observar que está por eciam del 50% de error, por l que ese modelo es inviable para poder ser presentado a una empresa."
   ]
  },
  {
   "cell_type": "markdown",
   "metadata": {
    "id": "pXOudav6UBaG"
   },
   "source": [
    "Se obtuvieron resultados muy similares al anterior"
   ]
  },
  {
   "cell_type": "markdown",
   "metadata": {
    "id": "kHpFj5Fx17Y2"
   },
   "source": [
    "Se procede a emplear la librería LightGBM modificando los hiperparámetros para encontrar el modelo con el menor RMSE"
   ]
  },
  {
   "cell_type": "markdown",
   "metadata": {
    "id": "lEFLq6wxdUjQ"
   },
   "source": [
    "### LightGBM"
   ]
  },
  {
   "cell_type": "markdown",
   "metadata": {
    "id": "d0qefjRy2ILW"
   },
   "source": [
    "En este caso ópta por modificar los hiperparámetros:\n",
    "\n",
    "`boosting_type`: que hace referencia al tipo de modelo que se utilizará para predecir la característica.\n",
    "\n",
    "* `gbdt`, traditional Gradient Boosting Decision Tree, aliases: gbrt\n",
    "\n",
    "* `dart`, Dropouts meet Multiple Additive Regression Trees\n",
    "\n",
    "* `goss`, Gradient-based One-Side Sampling\n",
    "\n",
    "`num_leaves`: cantidad de hojas que emplea el arbol de decisión.\n",
    "\n",
    "`max_depth `: Profundidad del bosque.\n",
    "\n",
    "`n_estimators `: cantidad de estimadores."
   ]
  },
  {
   "cell_type": "code",
   "execution_count": 219,
   "metadata": {
    "colab": {
     "base_uri": "https://localhost:8080/"
    },
    "id": "PrG8grmncvQz",
    "outputId": "149b44d8-ebec-4dce-b54d-0b64e669d860"
   },
   "outputs": [
    {
     "name": "stdout",
     "output_type": "stream",
     "text": [
      "CPU times: user 3 µs, sys: 0 ns, total: 3 µs\n",
      "Wall time: 6.91 µs\n",
      "35.30647801960531\n",
      "35.223912884613526\n",
      "35.12198514422477\n",
      "35.10741173600943\n",
      "35.01941721349558\n",
      "34.99804524777584\n",
      "34.9270492898592\n",
      "34.88891104914602\n",
      "34.86080941598524\n",
      "34.81741869735373\n",
      "34.78182546312504\n",
      "34.735145685981266\n",
      "34.72086079462585\n",
      "El modelo utilizado fue un: \"goss\", con 140 hojas, 140 estimadores y una profundidad de: 15\n",
      "The best RMSE = 34.72 %\n"
     ]
    }
   ],
   "source": [
    "%time\n",
    "best_LGBM_model = None\n",
    "best_LGBM_rmse = 100\n",
    "booster = None\n",
    "num_l = 0\n",
    "estimator = 0\n",
    "depth = 0\n",
    "for i in range(100,150,10):\n",
    "  for j in ['gbdt', 'dart','goss']:\n",
    "    for k in range(10,20,5):\n",
    "      for l in range(130,150, 10):\n",
    "        model_LGBM = LGBMRegressor(boosting_type= j,  num_leaves= l, max_depth =k,  learning_rate=0.1, n_estimators =i)\n",
    "        model_LGBM.fit(X_train,y_train)\n",
    "        predict_LGBM = model_LGBM.predict(X_valid)\n",
    "        RMSE = mean_squared_error(y_valid,predict_LGBM )**(1/2) * 100\n",
    "        if RMSE < best_LGBM_rmse:\n",
    "          best_LGBM_model = model_LGBM\n",
    "          best_LGBM_rmse = RMSE\n",
    "          booster = j\n",
    "          num_l = l\n",
    "          estimator = i\n",
    "          depth = k\n",
    "          print(best_LGBM_rmse)\n",
    "\n",
    "print(f'El modelo utilizado fue un: \"{booster}\", con {num_l} hojas, {estimator} estimadores y una profundidad de: {depth}')       \n",
    "print(f'The best RMSE = {round(best_LGBM_rmse,2)} %')"
   ]
  },
  {
   "cell_type": "markdown",
   "metadata": {
    "id": "BPzspe8c3vMk"
   },
   "source": [
    "Como se puede observar, el mejor modelo obtenido, RMSE de 34,72% lo cual es bastante bajo, arrojando una muy buena predicción en este sentido.\n",
    "\n",
    "Así mismo se observa que modelo que mejor se ajusta es el goss, que no es más que otro tipo de descenso de gradiente."
   ]
  },
  {
   "cell_type": "markdown",
   "metadata": {
    "id": "fpaVd2AY9OBA"
   },
   "source": [
    "### Decision_Tree_Regressor"
   ]
  },
  {
   "cell_type": "code",
   "execution_count": 220,
   "metadata": {
    "colab": {
     "base_uri": "https://localhost:8080/"
    },
    "id": "IzKcT7VS9WDh",
    "outputId": "40bd1b03-5099-420d-daa5-6ab20025d00f"
   },
   "outputs": [
    {
     "name": "stdout",
     "output_type": "stream",
     "text": [
      "CPU times: user 4 µs, sys: 0 ns, total: 4 µs\n",
      "Wall time: 9.06 µs\n",
      "Score for fold 1: 0.3937472969913987\n",
      "Score for fold 2: 0.4001386587794706\n",
      "Score for fold 3: 0.3988142380357951\n",
      "Score for fold 4: 0.3902618445424788\n",
      "Score for fold 5: 0.39150589437044925\n",
      "La media de los valores es: 0.3948935865439185\n",
      "\n",
      "Score for fold 1: 0.3924004794645632\n",
      "Score for fold 2: 0.39699695973265936\n",
      "Score for fold 3: 0.3973012901002097\n",
      "Score for fold 4: 0.38633225958921846\n",
      "Score for fold 5: 0.38931774656608814\n",
      "La media de los valores es: 0.39246974709054777\n",
      "\n",
      "Score for fold 1: 0.3906634238824108\n",
      "Score for fold 2: 0.3955619538168692\n",
      "Score for fold 3: 0.39625307710408103\n",
      "Score for fold 4: 0.3840109147421899\n",
      "Score for fold 5: 0.38628381179415217\n",
      "La media de los valores es: 0.3905546362679407\n",
      "\n",
      "Score for fold 1: 0.3886014923628911\n",
      "Score for fold 2: 0.3940804957924605\n",
      "Score for fold 3: 0.39368411228245154\n",
      "Score for fold 4: 0.3842289137572944\n",
      "Score for fold 5: 0.38553487974426015\n",
      "La media de los valores es: 0.3892259787878716\n",
      "\n",
      "Score for fold 1: 0.3873452232524337\n",
      "Score for fold 2: 0.3931764230423045\n",
      "Score for fold 3: 0.39266804048334886\n",
      "Score for fold 4: 0.38365450224281933\n",
      "Score for fold 5: 0.384852280583533\n",
      "La media de los valores es: 0.3883392939208879\n",
      "\n",
      "Score for fold 1: 0.3932784694005913\n",
      "Score for fold 2: 0.40042713699392757\n",
      "Score for fold 3: 0.3986272443837061\n",
      "Score for fold 4: 0.3884442876325238\n",
      "Score for fold 5: 0.39203936579013987\n",
      "La media de los valores es: 0.39456330084017777\n",
      "\n",
      "Score for fold 1: 0.39241967916070175\n",
      "Score for fold 2: 0.3983165750029139\n",
      "Score for fold 3: 0.39572199311512063\n",
      "Score for fold 4: 0.38429651575003004\n",
      "Score for fold 5: 0.3878508181980541\n",
      "La media de los valores es: 0.3917211162453641\n",
      "\n",
      "Score for fold 1: 0.3899747974379457\n",
      "Score for fold 2: 0.3952918322020141\n",
      "Score for fold 3: 0.3935783422533961\n",
      "Score for fold 4: 0.38202569671848263\n",
      "Score for fold 5: 0.3851667071344825\n",
      "La media de los valores es: 0.3892074751492641\n",
      "\n",
      "Score for fold 1: 0.38704918198837707\n",
      "Score for fold 2: 0.3935999118833901\n",
      "Score for fold 3: 0.3917598782527549\n",
      "Score for fold 4: 0.38239779964828113\n",
      "Score for fold 5: 0.3824535152307782\n",
      "La media de los valores es: 0.38745205740071625\n",
      "\n",
      "Score for fold 1: 0.384913873841972\n",
      "Score for fold 2: 0.392770263132422\n",
      "Score for fold 3: 0.3895895292860941\n",
      "Score for fold 4: 0.3808249655015908\n",
      "Score for fold 5: 0.3817777396719068\n",
      "La media de los valores es: 0.3859752742867971\n",
      "\n",
      "Score for fold 1: 0.39712466713362454\n",
      "Score for fold 2: 0.40225470272138764\n",
      "Score for fold 3: 0.3984202760004402\n",
      "Score for fold 4: 0.38980220728616555\n",
      "Score for fold 5: 0.39037511287801674\n",
      "La media de los valores es: 0.395595393203927\n",
      "\n",
      "Score for fold 1: 0.3933268621747154\n",
      "Score for fold 2: 0.39941442129746557\n",
      "Score for fold 3: 0.39693522279294546\n",
      "Score for fold 4: 0.384525160812981\n",
      "Score for fold 5: 0.3877174546819946\n",
      "La media de los valores es: 0.3923838243520204\n",
      "\n",
      "Score for fold 1: 0.3899362608828878\n",
      "Score for fold 2: 0.3965506904162227\n",
      "Score for fold 3: 0.3918985765431199\n",
      "Score for fold 4: 0.3825970024141003\n",
      "Score for fold 5: 0.3834967107726112\n",
      "La media de los valores es: 0.3888958482057884\n",
      "\n",
      "Score for fold 1: 0.3866152385291429\n",
      "Score for fold 2: 0.3940847999680657\n",
      "Score for fold 3: 0.38995307600638823\n",
      "Score for fold 4: 0.38159815041180045\n",
      "Score for fold 5: 0.3804822903261831\n",
      "La media de los valores es: 0.3865467110483161\n",
      "\n",
      "Score for fold 1: 0.3846690515814148\n",
      "Score for fold 2: 0.393564130929408\n",
      "Score for fold 3: 0.38773901850828074\n",
      "Score for fold 4: 0.3798871078193846\n",
      "Score for fold 5: 0.3796711167125026\n",
      "La media de los valores es: 0.38510608511019817\n",
      "\n",
      "Score for fold 1: 0.3972343230773554\n",
      "Score for fold 2: 0.4051099680852763\n",
      "Score for fold 3: 0.3995939551010702\n",
      "Score for fold 4: 0.3911801848534315\n",
      "Score for fold 5: 0.39449947438336913\n",
      "La media de los valores es: 0.39752358110010055\n",
      "\n",
      "Score for fold 1: 0.3939777628949356\n",
      "Score for fold 2: 0.40087720794085263\n",
      "Score for fold 3: 0.39501122183415677\n",
      "Score for fold 4: 0.3857762226817799\n",
      "Score for fold 5: 0.38746350576800115\n",
      "La media de los valores es: 0.3926211842239452\n",
      "\n",
      "Score for fold 1: 0.3905298499056125\n",
      "Score for fold 2: 0.3971165501703836\n",
      "Score for fold 3: 0.3907077798102839\n",
      "Score for fold 4: 0.383183449880655\n",
      "Score for fold 5: 0.38372885772720666\n",
      "La media de los valores es: 0.38905329749882833\n",
      "\n",
      "Score for fold 1: 0.3872641488952436\n",
      "Score for fold 2: 0.3940769446849667\n",
      "Score for fold 3: 0.3882744301721262\n",
      "Score for fold 4: 0.38160622203844746\n",
      "Score for fold 5: 0.38070303186607224\n",
      "La media de los valores es: 0.38638495553137125\n",
      "\n",
      "Score for fold 1: 0.38440742821746565\n",
      "Score for fold 2: 0.3935789786217177\n",
      "Score for fold 3: 0.38660509964294476\n",
      "Score for fold 4: 0.37897308895464565\n",
      "Score for fold 5: 0.379712716491262\n",
      "La media de los valores es: 0.3846554623856071\n",
      "\n",
      "Score for fold 1: 0.3994491053232551\n",
      "Score for fold 2: 0.40539323216633083\n",
      "Score for fold 3: 0.4005718676255608\n",
      "Score for fold 4: 0.39300953290992136\n",
      "Score for fold 5: 0.3950866763930938\n",
      "La media de los valores es: 0.3987020828836324\n",
      "\n",
      "Score for fold 1: 0.3948242471137562\n",
      "Score for fold 2: 0.4016638353332714\n",
      "Score for fold 3: 0.39538579353816194\n",
      "Score for fold 4: 0.3872370720706273\n",
      "Score for fold 5: 0.3891260848740741\n",
      "La media de los valores es: 0.3936474065859782\n",
      "\n",
      "Score for fold 1: 0.39027190414960994\n",
      "Score for fold 2: 0.39734430443107344\n",
      "Score for fold 3: 0.39136516194932386\n",
      "Score for fold 4: 0.3835540544437985\n",
      "Score for fold 5: 0.38463718623065046\n",
      "La media de los valores es: 0.3894345222408912\n",
      "\n",
      "Score for fold 1: 0.38677282851975847\n",
      "Score for fold 2: 0.39355396243771357\n",
      "Score for fold 3: 0.38831418253826183\n",
      "Score for fold 4: 0.3813433629276394\n",
      "Score for fold 5: 0.38030486507536515\n",
      "La media de los valores es: 0.3860578402997477\n",
      "\n",
      "Score for fold 1: 0.38402484717427054\n",
      "Score for fold 2: 0.39353939390522225\n",
      "Score for fold 3: 0.3864293346845387\n",
      "Score for fold 4: 0.3800921089643542\n",
      "Score for fold 5: 0.37972693320519857\n",
      "La media de los valores es: 0.3847625235867168\n",
      "\n",
      "Score for fold 1: 0.4013569664249606\n",
      "Score for fold 2: 0.408442712288463\n",
      "Score for fold 3: 0.4020123672995255\n",
      "Score for fold 4: 0.3968062358893884\n",
      "Score for fold 5: 0.39851025362945686\n",
      "La media de los valores es: 0.40142570710635883\n",
      "\n",
      "Score for fold 1: 0.3957641455992255\n",
      "Score for fold 2: 0.40154405314883385\n",
      "Score for fold 3: 0.3964747956228098\n",
      "Score for fold 4: 0.3897918789277464\n",
      "Score for fold 5: 0.39239545017038163\n",
      "La media de los valores es: 0.3951940646937994\n",
      "\n",
      "Score for fold 1: 0.39094813204028434\n",
      "Score for fold 2: 0.39814945623048\n",
      "Score for fold 3: 0.3917948128657197\n",
      "Score for fold 4: 0.38493316424926827\n",
      "Score for fold 5: 0.38612883050906627\n",
      "La media de los valores es: 0.3903908791789637\n",
      "\n",
      "Score for fold 1: 0.3859964826096524\n",
      "Score for fold 2: 0.39393276497816726\n",
      "Score for fold 3: 0.3887384162387862\n",
      "Score for fold 4: 0.3836787485046904\n",
      "Score for fold 5: 0.3817328541629928\n",
      "La media de los valores es: 0.3868158532988578\n",
      "\n",
      "Score for fold 1: 0.3840553592789512\n",
      "Score for fold 2: 0.39420050856449707\n",
      "Score for fold 3: 0.3865175051718573\n",
      "Score for fold 4: 0.3811608723943394\n",
      "Score for fold 5: 0.3805935725672193\n",
      "La media de los valores es: 0.3853055635953729\n",
      "\n",
      "El mejor RMSE es: 38.47\n"
     ]
    }
   ],
   "source": [
    "%time\n",
    "kf = KFold(n_splits=5)\n",
    "RMSE = 100\n",
    "best_model_RT = None\n",
    "scores = []\n",
    "for d in [15,16,17,18,19,20]:\n",
    "  for splitter in [2,4,6,8,10]:\n",
    "    model = DecisionTreeRegressor(max_depth = d, min_samples_split = splitter, random_state=42)\n",
    "    score = []\n",
    "    for fold,(train_idx, val_idx) in enumerate(kf.split(X), start = 1):\n",
    "      X_train = X.loc[train_idx].reset_index(drop = True)\n",
    "      y_train = y.loc[train_idx].reset_index(drop = True) \n",
    "      X_val = X.loc[val_idx].reset_index(drop = True)\n",
    "      y_val = y.loc[val_idx].reset_index(drop = True)  \n",
    "\n",
    "      model.fit(X_train,y_train)  \n",
    "      y_pred = pd.DataFrame(model.predict(X_val))\n",
    "      score.append(mean_squared_error(y_val, y_pred)**(1/2))\n",
    "      \n",
    "      print(f\"Score for fold {fold}: {mean_squared_error(y_val, y_pred)**(1/2)}\")\n",
    "    if np.mean(score) < RMSE:\n",
    "      RMSE = np.mean(score)\n",
    "      best_model_RT = model                    \n",
    "    \n",
    "    print(f'La media de los valores es: {np.mean(score)}\\n')\n",
    "    score = []\n",
    "  scores.append(score)\n",
    "print(f'El mejor RMSE es: {round(RMSE*100,2)} %')\n"
   ]
  },
  {
   "cell_type": "markdown",
   "metadata": {
    "id": "BwQbQrasGHlm"
   },
   "source": [
    "Este modelo el cual utiliza un arbol de desición por medio de un metodo de validación cruzada empleando varios fold y obteniendo un RMSE del 38.47 % más elevado que en el caso anterior"
   ]
  },
  {
   "cell_type": "markdown",
   "metadata": {
    "id": "M_fJBaqA9KFc"
   },
   "source": [
    "### CatBoost"
   ]
  },
  {
   "cell_type": "code",
   "execution_count": 221,
   "metadata": {
    "colab": {
     "base_uri": "https://localhost:8080/"
    },
    "id": "0kxAvzF2mAZV",
    "outputId": "7ea3ca45-1760-4bea-8fe6-6a95b24b53b7"
   },
   "outputs": [
    {
     "name": "stdout",
     "output_type": "stream",
     "text": [
      "CPU times: user 4 µs, sys: 0 ns, total: 4 µs\n",
      "Wall time: 9.06 µs\n",
      "Learning rate set to 0.450276\n",
      "0:\tlearn: 0.7160489\ttotal: 87.4ms\tremaining: 13s\n",
      "10:\tlearn: 0.4152673\ttotal: 401ms\tremaining: 5.07s\n",
      "20:\tlearn: 0.3936107\ttotal: 689ms\tremaining: 4.24s\n",
      "30:\tlearn: 0.3828796\ttotal: 1.02s\tremaining: 3.91s\n",
      "40:\tlearn: 0.3761675\ttotal: 1.31s\tremaining: 3.48s\n",
      "50:\tlearn: 0.3703201\ttotal: 1.6s\tremaining: 3.1s\n",
      "60:\tlearn: 0.3652368\ttotal: 1.92s\tremaining: 2.81s\n",
      "70:\tlearn: 0.3616933\ttotal: 2.23s\tremaining: 2.49s\n",
      "80:\tlearn: 0.3585128\ttotal: 2.56s\tremaining: 2.19s\n",
      "90:\tlearn: 0.3554049\ttotal: 2.87s\tremaining: 1.86s\n",
      "100:\tlearn: 0.3526720\ttotal: 3.15s\tremaining: 1.53s\n",
      "110:\tlearn: 0.3505557\ttotal: 3.45s\tremaining: 1.21s\n",
      "120:\tlearn: 0.3486757\ttotal: 3.74s\tremaining: 897ms\n",
      "130:\tlearn: 0.3471730\ttotal: 4.05s\tremaining: 588ms\n",
      "140:\tlearn: 0.3455212\ttotal: 4.35s\tremaining: 278ms\n",
      "149:\tlearn: 0.3440723\ttotal: 4.61s\tremaining: 0us\n",
      "The best RMSE = 35.2 %\n"
     ]
    }
   ],
   "source": [
    "%time\n",
    "model_CAT = CatBoostRegressor(iterations = 150 ,  loss_function='RMSE')\n",
    "model_CAT.fit(X_train,y_train, verbose=10 )\n",
    "predict_CAT = model_CAT.predict(X_valid)\n",
    "RMSE = mean_squared_error(y_valid,predict_CAT )**(1/2) * 100\n",
    "\n",
    "        \n",
    "print(f'The best RMSE = {round(RMSE,2)} %')"
   ]
  },
  {
   "cell_type": "markdown",
   "metadata": {
    "id": "40znNHVQ37JL"
   },
   "source": [
    "Aplicando un modelo por medio de la librería CatBoost, podemos observar que el erro cuadrático medio obtenido es de 36.7%, un excelente valor, aunque menor que el obtenido en el LGBM "
   ]
  },
  {
   "cell_type": "markdown",
   "metadata": {
    "id": "rqy1blBE0vpE"
   },
   "source": [
    "## Análisis del modelo"
   ]
  },
  {
   "cell_type": "markdown",
   "metadata": {
    "id": "0mQ-ajGZG-mm"
   },
   "source": [
    "Si realizamos el análisis de la velocidad de predicción de cada uno de los mejores modelos tenemos que:"
   ]
  },
  {
   "cell_type": "markdown",
   "metadata": {
    "id": "JPOSdbzTI5mg"
   },
   "source": [
    "Predicción del modelo de regresión lineal"
   ]
  },
  {
   "cell_type": "code",
   "execution_count": 222,
   "metadata": {
    "colab": {
     "base_uri": "https://localhost:8080/"
    },
    "id": "f9IXzgv60vpE",
    "outputId": "5dc89e70-42ca-4514-c72b-75d26815f013"
   },
   "outputs": [
    {
     "name": "stdout",
     "output_type": "stream",
     "text": [
      "CPU times: user 4 µs, sys: 0 ns, total: 4 µs\n",
      "Wall time: 8.11 µs\n",
      "RMSE = 67.32 %\n"
     ]
    }
   ],
   "source": [
    "%time\n",
    "predict_reg = model_reg.predict(X_valid)\n",
    "print(f'RMSE = {round(mean_squared_error(y_valid,predict_reg)**(1/2) * 100,2)} %')"
   ]
  },
  {
   "cell_type": "markdown",
   "metadata": {
    "id": "N3YLeKGxI_8H"
   },
   "source": [
    "Tarda 4us segundos es casi instantaneo, sin embargo su RMSE es de 67.32% lo cual habla de una calidad de modelo bastante baja"
   ]
  },
  {
   "cell_type": "markdown",
   "metadata": {
    "id": "2gU-oDTnJaLG"
   },
   "source": [
    "Se prosige nalizando la velocidad del algoritmo de LGBMRegressor"
   ]
  },
  {
   "cell_type": "code",
   "execution_count": 223,
   "metadata": {
    "colab": {
     "base_uri": "https://localhost:8080/"
    },
    "id": "2BvpCUK1KaPg",
    "outputId": "ee4a8571-2c84-4f10-9fac-65e905ec8868"
   },
   "outputs": [
    {
     "name": "stdout",
     "output_type": "stream",
     "text": [
      "CPU times: user 8 µs, sys: 0 ns, total: 8 µs\n",
      "Wall time: 7.39 µs\n",
      "RMSE = 34.72 %\n"
     ]
    }
   ],
   "source": [
    "%time\n",
    "predict_LGBM= model_LGBM.predict(X_valid)\n",
    "RMSE = mean_squared_error(y_valid,predict_LGBM )**(1/2) * 100\n",
    "print(f'RMSE = {round(RMSE ,2)} %')"
   ]
  },
  {
   "cell_type": "markdown",
   "metadata": {
    "id": "bw75b-SBKvKN"
   },
   "source": [
    "Este código tiene una RMSE de 34.72% casi la mitad del anterior, siendo bastante eficiente, y al mismo tiempo solo tarda 8 us en ejecutarse, un poco superior sin embargo bastante rápido"
   ]
  },
  {
   "cell_type": "code",
   "execution_count": 224,
   "metadata": {
    "colab": {
     "base_uri": "https://localhost:8080/"
    },
    "id": "hEC0CEgwM3cQ",
    "outputId": "0c0f9a05-6773-4458-e71f-d3a38b08146f"
   },
   "outputs": [
    {
     "name": "stdout",
     "output_type": "stream",
     "text": [
      "CPU times: user 4 µs, sys: 0 ns, total: 4 µs\n",
      "Wall time: 7.87 µs\n",
      "RMSE = 35.2 %\n"
     ]
    }
   ],
   "source": [
    "%time\n",
    "predict_CAT = model_CAT.predict(X_valid)\n",
    "RMSE = mean_squared_error(y_valid,predict_CAT )**(1/2) * 100\n",
    "\n",
    "        \n",
    "print(f'RMSE = {round(RMSE,2)} %')"
   ]
  },
  {
   "cell_type": "markdown",
   "metadata": {
    "id": "FSlnWt3ZMnkW"
   },
   "source": [
    "Así mismo,revisando el algoritmo de CatBoost, podemos observar que en 200 iteraciones logró un RMSE de 35.2 % en tan solo 4 us, siendo bastante rapido, y con una diferencia de solo 1.18% entre el modelo de LGBM y el de CatBoost"
   ]
  },
  {
   "cell_type": "markdown",
   "metadata": {
    "id": "y68mm_0OQZMn"
   },
   "source": [
    "Por último se realiza la prueba con el modelo de arbol de decisión. "
   ]
  },
  {
   "cell_type": "code",
   "execution_count": 225,
   "metadata": {
    "colab": {
     "base_uri": "https://localhost:8080/"
    },
    "id": "_yqUEA3KNQRC",
    "outputId": "d9d13f07-714e-4a4d-8ab8-6da010889b26"
   },
   "outputs": [
    {
     "name": "stdout",
     "output_type": "stream",
     "text": [
      "CPU times: user 4 µs, sys: 0 ns, total: 4 µs\n",
      "Wall time: 7.15 µs\n",
      "RMSE = 30.94 %\n"
     ]
    }
   ],
   "source": [
    "%time\n",
    "predict_RT = best_model_RT.predict(X_valid)\n",
    "RMSE = mean_squared_error(y_valid,predict_RT )**(1/2) * 100\n",
    "\n",
    "        \n",
    "print(f'RMSE = {round(RMSE,2)} %')"
   ]
  },
  {
   "cell_type": "markdown",
   "metadata": {
    "id": "Qtkn9laoQgqv"
   },
   "source": [
    "Se obtuvo un RMSE del 30.94% el más bajo hasta ahora, obteniendo incluso un timepo de ejecución de 4 us. Siendo el que mejor calidad aporta hasta ahora, y el más rápido."
   ]
  },
  {
   "cell_type": "markdown",
   "metadata": {
    "id": "X_kmUHc2Q1EV"
   },
   "source": [
    "## Conclusión General"
   ]
  },
  {
   "cell_type": "markdown",
   "metadata": {
    "id": "I3FHY6j5Q3lI"
   },
   "source": [
    "Primeramente, al realizar el análisis de los datos, se observa que la cantidad de nulos es considerble y al tratarse de observaciones categóricas, en este caso, no sería correcto que sean sutituidas por los valores más communes como la moda, o por alguna distribución aleatoria, ya que entrenaríamos al modelo con modelos de autos innexistentes, lo cual puede que a futuro ocacione algun error que conlleve a una mala predicción. Es por ello que se opta por borrarlos, ya que el porcentaje de perdedia oscila en el 20% de los datos, y aunque esto representa un 1/5 de los mismos, es un mal necesario para garantizar que el modelo funciona adecuadamente.\n",
    "\n",
    "### **Resultado de los modelos**\n",
    "\n",
    "#### **Regresión lineal**\n",
    "\n",
    "Tarda 4us segundos es casi instantaneo, sin embargo su RMSE es de 67.32% lo cual habla de una calidad de modelo bastante baja\n",
    "\n",
    "#### LGBMRegressor\n",
    "\n",
    "Este código tiene una RMSE de 34.72% casi la mitad del anterior, siendo bastante eficiente, y al mismo tiempo solo tarda 8 us en ejecutarse, un poco superior sin embargo bastante rápido.\n",
    "\n",
    "#### CatBoost\n",
    "\n",
    "Así mismo,revisando el algoritmo de CatBoost, podemos observar que en 200 iteraciones logró un RMSE de 35.2 % en tan solo 4 us, siendo bastante rapido, y con una diferencia de solo 1.18% entre el modelo de LGBM y el de CatBoost\n",
    "\n",
    "#### Arbol de decisión aleatorio\n",
    "\n",
    "Se obtuvo un RMSE del 30.94% el más bajo hasta ahora, obteniendo incluso un timepo de ejecución de 4 us. Siendo el que mejor calidad aporta hasta ahora, y el más rápido.\n",
    "\n",
    "Se puede concluir que luego de realizar un análisis de los datos, eliminar aquellos que no servian para el análisis y porbar 6 modelos diferentes, se llega a la conclusión general que el modelo que aporta un menor RMSE es el arbol de desición el cual empleó un método de validación cruzada, y con ello se llegó al mejor resultado posible. "
   ]
  },
  {
   "cell_type": "code",
   "execution_count": null,
   "metadata": {},
   "outputs": [],
   "source": []
  }
 ],
 "metadata": {
  "colab": {
   "provenance": []
  },
  "gpuClass": "standard",
  "kernelspec": {
   "display_name": "Python 3 (ipykernel)",
   "language": "python",
   "name": "python3"
  },
  "language_info": {
   "codemirror_mode": {
    "name": "ipython",
    "version": 3
   },
   "file_extension": ".py",
   "mimetype": "text/x-python",
   "name": "python",
   "nbconvert_exporter": "python",
   "pygments_lexer": "ipython3",
   "version": "3.9.5"
  },
  "toc": {
   "base_numbering": 1,
   "nav_menu": {},
   "number_sections": true,
   "sideBar": true,
   "skip_h1_title": true,
   "title_cell": "Table of Contents",
   "title_sidebar": "Contents",
   "toc_cell": false,
   "toc_position": {},
   "toc_section_display": true,
   "toc_window_display": false
  }
 },
 "nbformat": 4,
 "nbformat_minor": 1
}
